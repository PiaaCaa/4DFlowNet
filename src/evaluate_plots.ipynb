{
 "cells": [
  {
   "attachments": {},
   "cell_type": "markdown",
   "metadata": {},
   "source": [
    "# Evaluation of trained network for temporal super-resolution"
   ]
  },
  {
   "cell_type": "code",
   "execution_count": 1,
   "metadata": {},
   "outputs": [],
   "source": [
    "#%matplotlib notebook\n",
    "import ipywidgets as widgets\n",
    "from ipywidgets import HBox, VBox\n",
    "import numpy as np\n",
    "import matplotlib.pyplot as plt\n",
    "import matplotlib.animation as animation\n",
    "from IPython.display import display\n",
    "from utils.evaluate_utils import *\n",
    "plt.rcParams['figure.figsize'] = [20, 15]\n",
    "%matplotlib inline"
   ]
  },
  {
   "attachments": {},
   "cell_type": "markdown",
   "metadata": {},
   "source": [
    "### Set model and dataset to evaluate\n"
   ]
  },
  {
   "cell_type": "code",
   "execution_count": 2,
   "metadata": {},
   "outputs": [],
   "source": [
    "# Define directories and filenames\n",
    "# model_name = '20230210-0333' #\n",
    "# set_name = 'Test'\n",
    "# data_model= '3'\n",
    "\n",
    "# model_name = '20230215-1029' \n",
    "# set_name = 'Training'\n",
    "# data_model= '1'\n",
    "\n",
    "# model_name = '20230217-0602'    \n",
    "# set_name = 'Test'               \n",
    "# data_model= '4'\n",
    "# step = 2\n",
    "\n",
    "model_name = '20230301-1654'    \n",
    "set_name = 'Test'               \n",
    "data_model= '4'\n",
    "step = 2"
   ]
  },
  {
   "attachments": {},
   "cell_type": "markdown",
   "metadata": {},
   "source": [
    "### Set evaluation files to compare relative error to\n"
   ]
  },
  {
   "cell_type": "code",
   "execution_count": 3,
   "metadata": {},
   "outputs": [
    {
     "name": "stdout",
     "output_type": "stream",
     "text": [
      "<KeysViewHDF5 ['u_combined', 'v_combined', 'w_combined']>\n"
     ]
    }
   ],
   "source": [
    "\n",
    "def load_data(model_name, set_name, data_model, step):\n",
    "    #directories\n",
    "    gt_dir = '../data/CARDIAC'\n",
    "    result_dir = f'../results/Temporal4DFlowNet_{model_name}'\n",
    "    eval_dir = f'{result_dir}/plots'\n",
    "    lr_dir = '../data/CARDIAC'\n",
    "\n",
    "    #filenames\n",
    "    gt_filename = f'M{data_model}_2mm_step{step}_static.h5'\n",
    "    lr_filename = f'M{data_model}_2mm_step{step}_static_noise.h5'\n",
    "    result_filename = f'{set_name}set_result_model{data_model}_2mm_step{step}_{model_name[-4::]}_temporal.h5' #_newpadding\n",
    "    evaluation_filename = f'eval_rel_err_{data_model}_2mm_step{step}_{model_name[-4::]}_temporal.h5'\n",
    "\n",
    "\n",
    "    if not os.path.isdir(eval_dir):\n",
    "        os.makedirs(eval_dir)\n",
    "\n",
    "    #Params for evalation\n",
    "    save_relative_error_file= False\n",
    "\n",
    "    # Setting up\n",
    "    gt_filepath = '{}/{}'.format(gt_dir, gt_filename)\n",
    "    res_filepath = '{}/{}'.format(result_dir, result_filename)\n",
    "    lr_filepath = '{}/{}'.format(lr_dir, lr_filename)\n",
    "\n",
    "\n",
    "    if save_relative_error_file:\n",
    "        assert(not os.path.exists(f'{result_dir}/{evaluation_filename}')) #STOP if relative error file is already created\n",
    "\n",
    "    vel_colnames=['u', 'v', 'w']\n",
    "    gt = {}\n",
    "    lr = {}\n",
    "    pred = {}\n",
    "    dt = {}\n",
    "\n",
    "    with h5py.File(res_filepath, mode = 'r' ) as h_pred:\n",
    "        with h5py.File(gt_filepath, mode = 'r' ) as h_gt:\n",
    "            with h5py.File(lr_filepath, mode = 'r' ) as h_lr:\n",
    "                \n",
    "                gt[\"mask\"] = np.asarray(h_gt[\"mask\"])\n",
    "                gt[\"mask\"][np.where(gt[\"mask\"] !=0)] = 1\n",
    "                temporal_mask = create_temporal_mask(gt[\"mask\"], h_gt['u'].shape[0])\n",
    "                print(h_pred.keys())\n",
    "                # adapt dimension\n",
    "                for vel in vel_colnames:\n",
    "                    \n",
    "                    gt[vel] = np.asarray(h_gt[vel])\n",
    "                    pred[vel] = np.asarray(h_pred[f'{vel}_combined'])   # TODO chnaged this with new combination of all axis \n",
    "                    lr[vel] = np.asarray(h_lr[vel])[::2, :, :, :]       #TODO: this chnaged with the new loading modules\n",
    "                    #transpose for temporal resolution\n",
    "                    # pred[vel] = pred[vel].transpose(1, 0, 2, 3) #TODO changed for new csv file\n",
    "                    # print(pred[vel].shape)\n",
    "\n",
    "                    # add information considering only the fluid regions  \n",
    "                    pred[f'{vel}_fluid'] =np.multiply(pred[vel], temporal_mask)\n",
    "                    lr[f'{vel}_fluid'] =  np.multiply(lr[vel], temporal_mask[::2, :, :, :])\n",
    "                    gt[f'{vel}_fluid'] =  np.multiply(gt[vel], temporal_mask)\n",
    "\n",
    "                    #include speed calculations\n",
    "                    \n",
    "                gt['speed']   = np.sqrt(gt[\"u\"]**2 + gt[\"v\"]**2 + gt[\"w\"]**2)\n",
    "                lr['speed']   =  np.sqrt(lr[\"u\"]**2 + lr[\"v\"]**2 + lr[\"w\"]**2)\n",
    "                pred['speed'] = np.sqrt(pred[\"u\"]**2 + pred[\"v\"]**2 + pred[\"w\"]**2)\n",
    "\n",
    "\n",
    "\n",
    "    return lr, gt, pred, temporal_mask\n",
    "lr, gt, pred, temporal_mask = load_data(model_name, set_name, data_model, step)"
   ]
  },
  {
   "attachments": {},
   "cell_type": "markdown",
   "metadata": {},
   "source": [
    "### Create interpolation data from low resolution data"
   ]
  },
  {
   "cell_type": "code",
   "execution_count": 4,
   "metadata": {},
   "outputs": [
    {
     "name": "stdout",
     "output_type": "stream",
     "text": [
      "Interpolate low resolution images -  u\n"
     ]
    }
   ],
   "source": [
    "#this can take a while\n",
    "interpolate_NN = {}\n",
    "interpolate_linear = {}\n",
    "interpolate_cubic = {}\n",
    "\n",
    "vel_colnames=['u', 'v', 'w']\n",
    "\n",
    "for vel in vel_colnames:\n",
    "    print(\"Interpolate low resolution images - \", vel)\n",
    "    interpolate_linear[vel] = temporal_linear_interpolation(lr[vel], gt[vel].shape)\n",
    "    interpolate_linear[f'{vel}_fluid'] = np.multiply(interpolate_linear[vel], gt['mask'])\n",
    "\n",
    "    interpolate_cubic[vel] = temporal_cubic_interpolation(lr[vel], gt[vel].shape)\n",
    "    interpolate_cubic[f'{vel}_fluid'] = np.multiply(interpolate_cubic[vel], gt['mask'])\n",
    "\n",
    "    interpolate_NN[vel] = temporal_NN_interpolation(lr[vel], gt[vel].shape)\n",
    "    interpolate_NN[f'{vel}_fluid'] = np.multiply(interpolate_NN[vel], gt['mask'])\n"
   ]
  },
  {
   "attachments": {},
   "cell_type": "markdown",
   "metadata": {},
   "source": [
    "### Calculate relative error and mean speed"
   ]
  },
  {
   "cell_type": "code",
   "execution_count": null,
   "metadata": {},
   "outputs": [
    {
     "name": "stdout",
     "output_type": "stream",
     "text": [
      "max/min before tanh 54508.934 0.0\n",
      "max/min after tanh 1.0 0.0\n"
     ]
    }
   ],
   "source": [
    "rel_error =calculate_relative_error_normalized(pred[\"u\"], pred[\"v\"], pred[\"w\"], gt[\"u\"], gt[\"v\"] , gt[\"w\"], gt[\"mask\"])"
   ]
  },
  {
   "cell_type": "code",
   "execution_count": null,
   "metadata": {},
   "outputs": [],
   "source": [
    "rel_error =calculate_relative_error_normalized(pred[\"u\"], pred[\"v\"], pred[\"w\"], gt[\"u\"], gt[\"v\"] , gt[\"w\"], gt[\"mask\"])\n",
    "error_pointwise, error_absolut = calculate_pointwise_error(pred[\"u\"], pred[\"v\"], pred[\"w\"], gt[\"u\"], gt[\"v\"] , gt[\"w\"], gt[\"mask\"])\n",
    "rel_error_lin_interpolation =   calculate_relative_error_normalized(interpolate_linear[\"u\"], interpolate_linear[\"v\"], interpolate_linear[\"w\"], gt[\"u\"], gt[\"v\"] , gt[\"w\"], gt[\"mask\"])\n",
    "rel_error_cubic_interpolation = calculate_relative_error_normalized(interpolate_cubic[\"u\"], interpolate_cubic[\"v\"], interpolate_cubic[\"w\"], gt[\"u\"], gt[\"v\"] , gt[\"w\"], gt[\"mask\"])\n",
    "\n",
    "for vel in vel_colnames:\n",
    "    error_absolut[f'{vel}_fluid'] = np.multiply(error_absolut[vel], gt[\"mask\"])\n",
    "\n",
    "# mean speed of gt and prediction\n",
    "gt['mean_speed'] = calculate_mean_speed(gt[\"u_fluid\"], gt[\"v_fluid\"] , gt[\"w_fluid\"], gt[\"mask\"])\n",
    "pred['mean_speed'] = calculate_mean_speed(pred[\"u_fluid\"], pred[\"v_fluid\"] , pred[\"w_fluid\"], gt[\"mask\"])\n",
    "interpolate_linear['mean_speed'] = calculate_mean_speed(interpolate_linear[\"u_fluid\"], interpolate_linear[\"v_fluid\"] ,interpolate_linear[\"w_fluid\"], gt[\"mask\"])\n",
    "interpolate_cubic['mean_speed'] = calculate_mean_speed(interpolate_cubic[\"u_fluid\"], interpolate_cubic[\"v_fluid\"] , interpolate_cubic[\"w_fluid\"], gt[\"mask\"])"
   ]
  },
  {
   "cell_type": "code",
   "execution_count": null,
   "metadata": {},
   "outputs": [],
   "source": [
    "# pred_axis0 = {}\n",
    "# pred_axis1 = {}\n",
    "# pred_axis2 = {}\n",
    "# vel_colnames=['u', 'v', 'w']\n",
    "# #Compare the combined and not combined evaulations\n",
    "# with h5py.File(res_filepath, mode = 'r' ) as h_pred:\n",
    "#     for vel in vel_colnames:\n",
    "#         pred_axis0[vel] = np.asarray(h_pred[f'{vel}_axis0'])   \n",
    "#         pred_axis1[vel] = np.asarray(h_pred[f'{vel}_axis1'])  \n",
    "#         pred_axis2[vel] = np.asarray(h_pred[f'{vel}_axis2'])  \n",
    "\n",
    "#         pred_axis0[f'{vel}_fluid'] = np.multiply(gt[\"mask\"], pred_axis0[vel])\n",
    "#         pred_axis1[f'{vel}_fluid'] = np.multiply(gt[\"mask\"], pred_axis1[vel])\n",
    "#         pred_axis2[f'{vel}_fluid'] = np.multiply(gt[\"mask\"], pred_axis2[vel])\n",
    "\n",
    "# rel_error_axis0 = calculate_relative_error_normalized(pred_axis0[\"u\"], pred_axis0[\"v\"], pred_axis0[\"w\"], gt[\"u\"], gt[\"v\"] , gt[\"w\"], gt[\"mask\"])\n",
    "# rel_error_axis1 = calculate_relative_error_normalized(pred_axis1[\"u\"], pred_axis1[\"v\"], pred_axis1[\"w\"], gt[\"u\"], gt[\"v\"] , gt[\"w\"], gt[\"mask\"])\n",
    "# rel_error_axis2 = calculate_relative_error_normalized(pred_axis2[\"u\"], pred_axis2[\"v\"], pred_axis2[\"w\"], gt[\"u\"], gt[\"v\"] , gt[\"w\"], gt[\"mask\"])\n",
    "# mean_speed_axis0 = calculate_mean_speed(pred_axis0[\"u_fluid\"], pred_axis0[\"v_fluid\"] , pred_axis0[\"w_fluid\"], gt[\"mask\"])\n",
    "# mean_speed_axis1 = calculate_mean_speed(pred_axis1[\"u_fluid\"], pred_axis1[\"v_fluid\"] , pred_axis1[\"w_fluid\"], gt[\"mask\"])\n",
    "# mean_speed_axis2 = calculate_mean_speed(pred_axis2[\"u_fluid\"], pred_axis2[\"v_fluid\"] , pred_axis2[\"w_fluid\"], gt[\"mask\"])\n",
    "\n",
    "\n",
    "\n",
    "# plt.subplot(2, 1, 1)\n",
    "# #plot_relative_error([gt_filepath],[res_filepath], [set_name])\n",
    "\n",
    "# #plt.legend(lst_names)\n",
    "# plt.title(\"Relative error\")\n",
    "# plt.plot(rel_error, label = 'averaged prediction')\n",
    "# # plt.plot(rel_error_axis0, label = \"axis 0\")\n",
    "# # plt.plot(rel_error_axis1, label = \"axis 1\")\n",
    "# # plt.plot(rel_error_axis2, label = \"axis 2\")\n",
    "# plt.plot(rel_error_lin_interpolation[:-1], label = 'linear interpolation',color = 'yellowgreen')\n",
    "# plt.plot(rel_error_cubic_interpolation, label = 'cubic interpolation', color = 'forestgreen')\n",
    "# plt.plot(50*np.ones(len(rel_error)), 'k:')\n",
    "# plt.xlabel(\"Frame\")\n",
    "# plt.ylabel(\"Relative error (%)\")\n",
    "# plt.ylim((0, 100))\n",
    "# plt.legend()\n",
    "\n",
    "# plt.subplot(2, 1, 2)\n",
    "# plt.plot(gt['mean_speed'], label ='Ground truth',color = 'black')\n",
    "# plt.plot(pred['mean_speed'],'b', label= set_name, color = 'steelblue')\n",
    "# # plt.plot(mean_speed_axis0, label = \"axis 0\")\n",
    "# # plt.plot(mean_speed_axis1, label = \"axis 1\")\n",
    "# # plt.plot(mean_speed_axis2, label = \"axis 2\")\n",
    "# plt.plot(interpolate_linear['mean_speed'][:-1], label = 'linear interpolation', color = 'yellowgreen')\n",
    "# # plt.plot(mean_speed_cubic_interpolation[:-1], label = 'cubic interpoaltion', color = 'forestgreen')\n",
    "# plt.xlabel(\"Frame\")\n",
    "# plt.ylabel(\"Mean speed (cm/s)\")\n",
    "# plt.legend()\n",
    "\n",
    "# plt.savefig(f'{eval_dir}/Erl_error_{set_name}.svg')\n",
    "# plt.show()\n",
    "\n"
   ]
  },
  {
   "attachments": {},
   "cell_type": "markdown",
   "metadata": {},
   "source": [
    "## Show results including non-fluid region\n",
    " "
   ]
  },
  {
   "cell_type": "code",
   "execution_count": null,
   "metadata": {},
   "outputs": [],
   "source": [
    "vel_colnames = ['u', 'v', 'w']\n",
    "min_v = {}\n",
    "max_v = {}\n",
    "for vel in vel_colnames:\n",
    "    min_v[vel] = np.quantile(gt[vel][np.where(temporal_mask !=0)].flatten(), 0.01)\n",
    "    max_v[vel] = np.quantile(gt[vel][np.where(temporal_mask !=0)].flatten(), 0.99)\n",
    "\n",
    "\n",
    "\n",
    "@widgets.interact(frame=(0, gt[\"u\"].shape[0]-1), x = (0, gt[\"u\"].shape[1]-1), vel=vel_colnames)\n",
    "def f(frame=5, x = 10, vel = \"u\"):\n",
    "    plt.subplot(1, 5, 1)\n",
    "    if frame%2 == 0:\n",
    "        plt.imshow(lr[vel][frame//2, x, :, :], vmin = min_v[vel], vmax = max_v[vel])#, cmap='jet')\n",
    "    else:\n",
    "        plt.imshow(np.zeros_like(lr[vel][frame//2, x, :, :]), vmin = min_v[vel], vmax = max_v[vel])#, cmap='jet')\n",
    "    plt.title(\"LR\")\n",
    "    plt.axis('off')\n",
    "    \n",
    "    #plt.imshow(lr[vel][frame//t, x, :, :])\n",
    "    plt.axis('off')\n",
    "\n",
    "    plt.subplot(1, 5, 2)\n",
    "    plt.imshow(gt[vel][frame, x, :, :], vmin = min_v[vel], vmax = max_v[vel])#, cmap='jet')\n",
    "    plt.title(\"GT\")\n",
    "    plt.axis('off')\n",
    "\n",
    "    plt.subplot(1, 5, 3)\n",
    "    plt.imshow(pred[vel][frame, x, :, :], vmin = min_v[vel], vmax = max_v[vel])#, cmap='jet')\n",
    "    plt.title(\"SR\")\n",
    "    plt.axis('off')\n",
    "\n",
    "    plt.subplot(1, 5, 4)\n",
    "    plt.imshow(interpolate_linear[vel][frame, x, :, :], vmin = min_v[vel], vmax = max_v[vel])#, cmap='jet')\n",
    "    plt.title(\"Linear Interpolation\")\n",
    "    plt.axis('off')\n",
    "\n",
    "    plt.subplot(1, 5, 5)\n",
    "    plt.imshow(interpolate_cubic[vel][frame, x, :, :], vmin = min_v[vel], vmax = max_v[vel])#, cmap='jet')\n",
    "    plt.title(\"Cubic Interpolation\")\n",
    "    plt.axis('off')\n",
    "\n",
    "    plt.tight_layout()\n",
    "    plt.show()\n",
    "\n"
   ]
  },
  {
   "attachments": {},
   "cell_type": "markdown",
   "metadata": {},
   "source": [
    "## Show results with only fluid region"
   ]
  },
  {
   "cell_type": "code",
   "execution_count": null,
   "metadata": {},
   "outputs": [],
   "source": [
    "\n",
    "vel_colnames = ['u_fluid', 'v_fluid', 'w_fluid']\n",
    "\n",
    "@widgets.interact(frame=(0, gt[\"u\"].shape[0]-1), x = (0, gt[\"u\"].shape[1]-1), vel=vel_colnames, patch_size=(10, 30))\n",
    "def f(frame=5, x = 10, vel = \"u\", patch_size=20):\n",
    "    N = 7\n",
    "    mid_y = gt[\"u\"].shape[2]//2\n",
    "    mid_z = gt[\"u\"].shape[3]//2\n",
    "\n",
    "    plt.subplot(1, N, 1)\n",
    "    if frame%2 == 0:\n",
    "        plt.imshow(lr[vel][frame//2, x, mid_y-patch_size:mid_y+patch_size, mid_z-patch_size:mid_z+patch_size],  vmin = min_v[vel[0]], vmax = max_v[vel[0]], cmap='viridis')\n",
    "    else:\n",
    "        plt.imshow(np.zeros_like(lr[vel][frame//2, x, mid_y-patch_size:mid_y+patch_size, mid_z-patch_size:mid_z+patch_size]), vmin = min_v[vel[0]], vmax = max_v[vel[0]], cmap='viridis')\n",
    "    plt.title(\"LR\")\n",
    "    plt.axis('off')\n",
    "    \n",
    "    #plt.imshow(lr[vel][frame//t, x, :, :])\n",
    "    plt.axis('off')\n",
    "\n",
    "    plt.subplot(1, N, 2)\n",
    "    plt.imshow(gt[vel][frame, x, mid_y-patch_size:mid_y+patch_size, mid_z-patch_size:mid_z+patch_size], vmin = min_v[vel[0]], vmax = max_v[vel[0]], cmap='viridis')#, origin = 'lower')\n",
    "    plt.title(\"GT\")\n",
    "    plt.axis('off')\n",
    "\n",
    "    plt.subplot(1, N, 3)\n",
    "    plt.imshow(pred[vel][frame, x, mid_y-patch_size:mid_y+patch_size, mid_z-patch_size:mid_z+patch_size],  vmin = min_v[vel[0]], vmax = max_v[vel[0]], cmap='viridis')\n",
    "    plt.title(\"SR\")\n",
    "    plt.axis('off')\n",
    "\n",
    "    plt.subplot(1, N, 4)\n",
    "    plt.imshow(interpolate_linear[vel][frame, x, mid_y-patch_size:mid_y+patch_size, mid_z-patch_size:mid_z+patch_size],  vmin = min_v[vel[0]], vmax = max_v[vel[0]], cmap='viridis')\n",
    "    plt.title(\"Linear\")\n",
    "    plt.axis('off')\n",
    "\n",
    "    plt.subplot(1, N, 5)\n",
    "    plt.imshow(interpolate_cubic[vel][frame, x, mid_y-patch_size:mid_y+patch_size, mid_z-patch_size:mid_z+patch_size],  vmin = min_v[vel[0]], vmax = max_v[vel[0]], cmap='viridis')\n",
    "    plt.title(\"Cubic\")\n",
    "    plt.axis('off')\n",
    "\n",
    "    plt.subplot(1, N, 6)\n",
    "    plt.imshow(error_pointwise[frame, x,mid_y-patch_size:mid_y+patch_size, mid_z-patch_size:mid_z+patch_size], cmap='viridis')\n",
    "    plt.title(\"Relative error\")\n",
    "    plt.axis('off')\n",
    "\n",
    "    plt.subplot(1, N, 7)\n",
    "    plt.imshow(error_absolut[vel][frame, x, mid_y-patch_size:mid_y+patch_size, mid_z-patch_size:mid_z+patch_size], cmap='viridis')\n",
    "    plt.title(\"Absolute error\")\n",
    "    plt.axis('off')\n",
    "\n",
    "    plt.tight_layout()\n",
    "    #plt.colorbar()\n",
    "    plt.show()"
   ]
  },
  {
   "cell_type": "code",
   "execution_count": null,
   "metadata": {},
   "outputs": [],
   "source": [
    "compare_velocitywise = False\n",
    "\n",
    "\n",
    "if compare_velocitywise:\n",
    "\n",
    "    plt.subplot(2,1, 1)\n",
    "    plt.hist(gt[\"u\"][np.where(temporal_mask !=0)].flatten(), bins = 1000, color='g', label = 'u')\n",
    "    plt.hist(gt[\"v\"][np.where(temporal_mask !=0)].flatten(), bins = 1000,  color='b', label = 'v')\n",
    "    plt.hist(gt[\"w\"][np.where(temporal_mask !=0)].flatten(), bins = 1000,  color='r', label = 'w')\n",
    "    plt.xlim(np.quantile(gt[\"u\"][np.where(temporal_mask !=0)].flatten(), 0.01), np.quantile(gt[\"u\"][np.where(temporal_mask !=0)].flatten(), 0.99))\n",
    "    plt.xlabel('value')\n",
    "    plt.xlabel('value')\n",
    "    plt.title(\"Distribution of velocity values in fluid region without outliers\")\n",
    "    plt.legend()\n",
    "\n",
    "    plt.subplot(2,1, 2)\n",
    "    plt.hist(pred[\"u\"][np.where(temporal_mask !=0)].flatten(), bins = 1000, color='g', label = 'u')\n",
    "    plt.hist(pred[\"v\"][np.where(temporal_mask !=0)].flatten(), bins = 1000,  color='b', label = 'v')\n",
    "    plt.hist(pred[\"w\"][np.where(temporal_mask !=0)].flatten(), bins = 1000,  color='r', label = 'w')\n",
    "    plt.xlim(np.quantile(gt[\"u\"][np.where(temporal_mask !=0)].flatten(), 0.01), np.quantile(gt[\"u\"][np.where(temporal_mask !=0)].flatten(), 0.99))\n",
    "    plt.xlabel('value')\n",
    "    plt.xlabel('value')\n",
    "    #plt.title(\"Distribution of velocity values in fluid region without outliers\")\n",
    "    plt.legend()\n",
    "    plt.show()\n",
    "\n",
    "else:\n",
    "    plt.subplot(1, 3, 1)\n",
    "    plt.hist(gt[\"u\"][np.where(temporal_mask !=0)].flatten(), bins = 1000, color='black', label = 'u')\n",
    "    plt.hist(pred[\"u\"][np.where(temporal_mask !=0)].flatten(), bins = 1000, color='g', label = 'u predicted')    \n",
    "    plt.xlim(np.quantile(gt[\"u\"][np.where(temporal_mask !=0)].flatten(), 0.01), np.quantile(gt[\"u\"][np.where(temporal_mask !=0)].flatten(), 0.99))\n",
    "    plt.xlabel('value')\n",
    "    plt.title(\"Distribution of velocity values in fluid region without outliers\")\n",
    "    plt.legend()\n",
    "\n",
    "    plt.subplot(1, 3, 2)\n",
    "    plt.hist(gt[\"v\"][np.where(temporal_mask !=0)].flatten(), bins = 1000,  color='black', label = 'v')\n",
    "    plt.hist(pred[\"v\"][np.where(temporal_mask !=0)].flatten(), bins = 1000,  color='b', label = 'v predicted')\n",
    "    plt.xlim(np.quantile(gt[\"v\"][np.where(temporal_mask !=0)].flatten(), 0.01), np.quantile(gt[\"v\"][np.where(temporal_mask !=0)].flatten(), 0.99))\n",
    "    plt.legend()\n",
    "    plt.xlabel('value')\n",
    "\n",
    "    plt.subplot(1, 3, 3)\n",
    "    plt.hist(gt[\"w\"][np.where(temporal_mask !=0)].flatten(), bins = 1000,  color='black', label = 'w')\n",
    "    plt.hist(pred[\"w\"][np.where(temporal_mask !=0)].flatten(), bins = 1000,  color='r', label = 'w predicted')\n",
    "    plt.xlim(np.quantile(gt[\"w\"][np.where(temporal_mask !=0)].flatten(), 0.01), np.quantile(gt[\"w\"][np.where(temporal_mask !=0)].flatten(), 0.99))\n",
    "    plt.xlabel('value')\n",
    "    #plt.title(\"Distribution of velocity values in fluid region without outliers\")\n",
    "    plt.legend()\n",
    "    plt.tight_layout()\n",
    "    plt.show()"
   ]
  },
  {
   "attachments": {},
   "cell_type": "markdown",
   "metadata": {},
   "source": [
    "### Plot relative error and mean speed "
   ]
  },
  {
   "cell_type": "code",
   "execution_count": null,
   "metadata": {},
   "outputs": [],
   "source": [
    "plt.subplot(2, 1, 1)\n",
    "#plot_relative_error([gt_filepath],[res_filepath], [set_name])\n",
    "\n",
    "#plt.legend(lst_names)\n",
    "plt.title(\"Relative error\")\n",
    "plt.plot(rel_error, label = set_name)\n",
    "plt.plot(rel_error_lin_interpolation[:-1], label = 'linear interpolation',color = 'yellowgreen')\n",
    "plt.plot(rel_error_cubic_interpolation, label = 'cubic interpolation', color = 'forestgreen')\n",
    "plt.plot(50*np.ones(len(rel_error)), 'k:')\n",
    "plt.xlabel(\"Frame\")\n",
    "plt.ylabel(\"Relative error (%)\")\n",
    "plt.ylim((0, 100))\n",
    "plt.legend()\n",
    "\n",
    "plt.subplot(2, 1, 2)\n",
    "plt.plot(gt['mean_speed'], label ='Ground truth',color = 'black')\n",
    "plt.plot(pred['mean_speed'],'b', label= set_name, color = 'steelblue')\n",
    "plt.plot(interpolate_linear['mean_speed'][:-1], label = 'linear interpolatiom', color = 'yellowgreen')\n",
    "plt.plot(interpolate_cubic['mean_speed'][:-1] , label = 'cubic interpoaltion', color = 'forestgreen')\n",
    "plt.xlabel(\"Frame\")\n",
    "plt.ylabel(\"Mean speed (cm/s)\")\n",
    "plt.legend()\n",
    "plt.show()\n",
    "#lst_hgt_paths, lst_hpred_paths,lst_names, save_as = 'Relative_error_comparison.png'"
   ]
  },
  {
   "attachments": {},
   "cell_type": "markdown",
   "metadata": {},
   "source": [
    "### Quiver plot testing"
   ]
  },
  {
   "cell_type": "code",
   "execution_count": null,
   "metadata": {},
   "outputs": [],
   "source": [
    "import matplotlib.cm as cm\n",
    "from matplotlib.colors import Normalize\n",
    "\n",
    "set_to_zero = 0.8\n",
    "x_idx, y_idx, z_idx = random_indices3D(gt['mask'], int(np.count_nonzero(gt['mask'])*set_to_zero))\n",
    "x_len, y_len, z_len = gt['u'].shape[1::]\n",
    "\n",
    "\n",
    "@widgets.interact(frame=(0, gt[\"u\"].shape[0]-1))\n",
    "def f_quiver(frame=10 ):\n",
    "    #frame = 15\n",
    "    u = gt['u'][frame]\n",
    "    v = gt['v'][frame]\n",
    "    w = gt['w'][frame]#\n",
    "\n",
    "    # ev = np.array([1, 0, 0])\n",
    "    #angles = np.arccos(np.dot(ev, [u, v, w]) / (np.linalg.norm(ev) * np.linalg.norm(v2)))\n",
    "    # angles = np.multiply\n",
    "    # Make the grid\n",
    "    x, y, z = np.meshgrid(np.arange(y_len),np.arange(x_len),np.arange(z_len))\n",
    "    \n",
    "    fig = plt.figure()\n",
    "    ax = fig.add_subplot(projection='3d')\n",
    "\n",
    "    u[x_idx, y_idx, z_idx] = 0\n",
    "    v[x_idx, y_idx, z_idx] = 0\n",
    "    w[x_idx, y_idx, z_idx] = 0\n",
    "\n",
    "    cropx = cropy = cropz = 50\n",
    "    startx = x_len//2-(cropx//2)\n",
    "    starty = y_len//2-(cropy//2)    \n",
    "    startz = z_len//2-(cropz//2)\n",
    "    u = u[startx:startx+cropx, starty:starty+cropy,startz:startz+cropz] \n",
    "    v = v[startx:startx+cropx, starty:starty+cropy,startz:startz+cropz] \n",
    "    w = w[startx:startx+cropx, starty:starty+cropy,startz:startz+cropz] \n",
    "\n",
    "    x =x[startx:startx+cropx, starty:starty+cropy,startz:startz+cropz] \n",
    "    y =y[startx:startx+cropx, starty:starty+cropy,startz:startz+cropz] \n",
    "    z =z[startx:startx+cropx, starty:starty+cropy,startz:startz+cropz]\n",
    "\n",
    "    u_new = u[np.where(u != 0)]\n",
    "    v_new = v[np.where(u != 0)]\n",
    "    w_new = w[np.where(u != 0)]\n",
    "\n",
    "    x_new = x[np.where(u!=0)] \n",
    "    y_new = y[np.where(u!=0)] \n",
    "    z_new = z[np.where(u!=0)]\n",
    "\n",
    "\n",
    "    # Color by azimuthal angle\n",
    "    c = np.sqrt(u_new**2+ v_new**2+ w_new**2)#np.arctan2(w_new, u_new)\n",
    "    # Flatten and normalize\n",
    "\n",
    "    c = (c.ravel() - c.min()) / c.ptp()\n",
    "    # Repeat for each body line and two head lines\n",
    "    c = np.concatenate((c, np.repeat(c, 2)))\n",
    "    # Colormap\n",
    "    c = plt.cm.viridis(c)\n",
    "\n",
    "\n",
    "    ax.quiver(x_new, y_new, z_new, u_new, v_new, w_new, length=1, normalize=True,  pivot='middle', color = c)#, color=plt.cm.plasma([0.1,0.5, 0.9]))\n",
    "    plt.show()"
   ]
  },
  {
   "cell_type": "code",
   "execution_count": null,
   "metadata": {},
   "outputs": [],
   "source": [
    "def create_temporal_comparison_gif_plt(idx, lr, hr, pred, vel):\n",
    "    N = 4\n",
    "    v_lr = lr[vel]\n",
    "    v_hr = hr[vel]\n",
    "    v_pred = pred[vel]\n",
    "    v_error_abs= error_absolut[f'{vel}_fluid']\n",
    "    v_NN = temporal_NN_interpolation(v_lr,v_hr.shape )\n",
    "\n",
    "    err_max = np.quantile(v_error_abs[np.where(temporal_mask !=0)].flatten(), 0.999)\n",
    "\n",
    "    fig = plt.figure(frameon=False)\n",
    "    plt.subplot(1, N, 1)\n",
    "    im1 = plt.imshow(v_NN[0, idx, :, :],vmin=min_v[vel], vmax=max_v[vel])\n",
    "    plt.axis('off')\n",
    "    plt.subplot(1, N, 2)\n",
    "    im2 = plt.imshow(v_hr[0, idx, :, :],vmin=min_v[vel], vmax=max_v[vel])\n",
    "    plt.axis('off')\n",
    "    plt.subplot(1, N, 3)\n",
    "    im3 = plt.imshow(v_pred[0, idx, :, :],vmin=min_v[vel], vmax=max_v[vel])\n",
    "    plt.axis('off')\n",
    "\n",
    "    plt.subplot(1, N, 4)\n",
    "    im4 = plt.imshow(v_pred[0, idx, :, :],vmin=0, vmax=err_max)\n",
    "    plt.axis('off')\n",
    "    #fig.subplots_adjust(left=0, bottom=0, right=1, top=1, wspace=None, hspace=None)\n",
    "    plt.tight_layout()\n",
    "\n",
    "\n",
    "    #initialization function: plot the background of each frame\n",
    "    def init():\n",
    "        im1.set_data(np.random.random((5,5)))\n",
    "        im2.set_data(np.random.random((5,5)))\n",
    "        im3.set_data(np.random.random((5,5)))\n",
    "        im4.set_data(np.random.random((5,5)))\n",
    "        return [im1, im2, im3]\n",
    "\n",
    "    # animation function.  This is called sequentially\n",
    "    def animate(i):\n",
    "        \n",
    "        im1.set_array(v_NN[i, idx, :, :])\n",
    "        im2.set_array(v_hr[i, idx, :, :])\n",
    "        im3.set_array(v_pred[i, idx, :, :])\n",
    "        im4.set_array(v_error_abs[i, idx, :, :])\n",
    "        \n",
    "        return [im1, im2, im3]\n",
    "\n",
    "    anim = animation.FuncAnimation(fig,animate, init_func=init,\n",
    "                                frames = 50,\n",
    "                                interval = 100) # in ms)\n",
    "    anim.save(f'{eval_dir}/Animate_{vel}_fluid.gif', fps=300)\n",
    "\n",
    "def create_temporal_comparison_gif_single(idx, data, vel, title):\n",
    "\n",
    "    print(title, 'nframes:', data.shape[0])\n",
    "    fig = plt.figure(frameon=False)\n",
    "    # im1 = plt.imshow(data[0, idx, :, :],interpolation='none', vmin=min_v[vel], vmax=max_v[vel])\n",
    "    plt.title(title)\n",
    "    plt.axis('off')\n",
    "    \n",
    "    #fig.subplots_adjust(left=0, bottom=0, right=1, top=1, wspace=None, hspace=None)\n",
    "    plt.tight_layout()\n",
    "\n",
    "    #initialization function: plot the background of each frame\n",
    "    def init():\n",
    "        im1.set_data(np.random.random((5,5)))\n",
    "        return [im1]\n",
    "\n",
    "    # animation function.  This is called sequentially\n",
    "    def animate(i):\n",
    "        im1.set_array(data[i, idx, :, :])\n",
    "        return [im1]\n",
    "\n",
    "    anim = animation.FuncAnimation(fig,animate, init_func=init,\n",
    "                                frames = 50,\n",
    "                                interval = 100) # in ms)\n",
    "    anim.save(f'{eval_dir}/Animate_{title}_{vel}.gif', fps=300)\n",
    "\n",
    "    #generate_gif_volume(combined_image[:,idx, :, : ], axis = 0, save_as = save_as)\n",
    "\n",
    "create_temporal_comparison_gif_plt(22, lr, gt, pred, \"u\")\n",
    "create_temporal_comparison_gif_plt(22, lr, gt, pred, \"v\")\n",
    "create_temporal_comparison_gif_plt(22, lr, gt, pred, \"w\")\n",
    "#create_temporal_comparison_gif_plt(22, lr, gt, pred, \"speed\")\n",
    "# velo = 'u'\n",
    "# create_temporal_comparison_gif_single(22, temporal_NN_interpolation(lr[velo],gt[velo].shape), velo, \"LR\")\n",
    "# create_temporal_comparison_gif_single(22, gt[velo],velo , \"HR\")\n",
    "# create_temporal_comparison_gif_single(22, pred[velo],velo, \"4DFlowNet\")\n",
    "# create_temporal_comparison_gif_single(22, error_absolut[velo], velo, \"Absolute Error\")\n",
    "# First set up the figure, the axis, and the plot element we want to animate\n"
   ]
  },
  {
   "attachments": {},
   "cell_type": "markdown",
   "metadata": {},
   "source": [
    "### Plot regression lines"
   ]
  },
  {
   "cell_type": "code",
   "execution_count": null,
   "metadata": {},
   "outputs": [
    {
     "data": {
      "application/vnd.jupyter.widget-view+json": {
       "model_id": "f3a752cabb274320925b73e17ba5209c",
       "version_major": 2,
       "version_minor": 0
      },
      "text/plain": [
       "interactive(children=(IntSlider(value=10, description='frame', max=49), Output()), _dom_classes=('widget-inter…"
      ]
     },
     "metadata": {},
     "output_type": "display_data"
    }
   ],
   "source": [
    "\n",
    "@widgets.interact(frame=(0, gt[\"u\"].shape[0]-1), x = (0, gt[\"u\"].shape[1]-1))\n",
    "def f_regression(frame=10 ):\n",
    "    plot_regression(gt, pred, frame_idx=frame)\n",
    "    plt.tight_layout()\n",
    "    plt.show()"
   ]
  },
  {
   "attachments": {},
   "cell_type": "markdown",
   "metadata": {},
   "source": [
    "### Plot line development in time"
   ]
  },
  {
   "cell_type": "code",
   "execution_count": null,
   "metadata": {},
   "outputs": [
    {
     "data": {
      "application/vnd.jupyter.widget-view+json": {
       "model_id": "480b5e476bf34150bfb25e05a51c11a9",
       "version_major": 2,
       "version_minor": 0
      },
      "text/plain": [
       "interactive(children=(IntSlider(value=57, description='x', max=61), IntSlider(value=42, description='y', max=5…"
      ]
     },
     "metadata": {},
     "output_type": "display_data"
    }
   ],
   "source": [
    "vel_colnames=['u_fluid', 'v_fluid', 'w_fluid']\n",
    "#def show_temporal_development_line(gt, lr, pred, mask, axis, indices, save_as = \"Temporal_development.png\"):\n",
    "@widgets.interact(x=(0, gt[\"u\"].shape[1]-1), y = (0, gt[\"u\"].shape[2]-1), vel=vel_colnames, axis=(1, 3))\n",
    "def f_temporal_development_lines(x = 57,y =42, vel = \"u\", axis =1):\n",
    "\n",
    "        indices = (x, y)\n",
    "        def get_line(data):\n",
    "            #returns line in 4D data over all time steps\n",
    "            x,y = indices\n",
    "            if axis == 1:\n",
    "                return data[:, :, x, y]\n",
    "            elif axis ==2:\n",
    "                return data[:, x, :, y]\n",
    "            elif axis ==3:\n",
    "                return data[:, x,  y, :]\n",
    "            else:\n",
    "                print(\"Invalid axis: Please choose axis 1, 2, 3\")\n",
    "\n",
    "        prediction = get_line(pred[vel]).transpose()\n",
    "        ground_truth = get_line(gt[vel]).transpose()\n",
    "        low_resolution= get_line(interpolate_NN[vel]).transpose()\n",
    "\n",
    "        min_v = np.min([np.min(prediction), np.min(ground_truth), np.min(low_resolution)])\n",
    "        max_v = np.max([np.max(prediction), np.max(ground_truth), np.max(low_resolution)])\n",
    "\n",
    "\n",
    "        plt.subplot(1, 3, 1)\n",
    "        plt.imshow(low_resolution, vmin = min_v, vmax = max_v, cmap='jet')\n",
    "        plt.title(\"LR\")\n",
    "        plt.xlabel('t')\n",
    "        plt.yticks([])\n",
    "\n",
    "        plt.subplot(1, 3, 2)\n",
    "        plt.imshow(ground_truth, vmin = min_v, vmax = max_v, cmap='jet')\n",
    "        plt.title(\"GT\")\n",
    "        plt.xticks([])\n",
    "        plt.yticks([])\n",
    "\n",
    "        plt.subplot(1, 3, 3)\n",
    "        plt.imshow(prediction, vmin = min_v, vmax = max_v, cmap='jet')\n",
    "        plt.title(\"SR\")\n",
    "        plt.xticks([])\n",
    "        plt.yticks([])"
   ]
  },
  {
   "cell_type": "code",
   "execution_count": null,
   "metadata": {},
   "outputs": [],
   "source": []
  },
  {
   "attachments": {},
   "cell_type": "markdown",
   "metadata": {},
   "source": [
    "### Plot peak flow development"
   ]
  },
  {
   "cell_type": "code",
   "execution_count": null,
   "metadata": {},
   "outputs": [
    {
     "data": {
      "image/png": "[encoded data removed]",
      "text/plain": [
       "<Figure size 432x288 with 1 Axes>"
      ]
     },
     "metadata": {
      "needs_background": "light"
     },
     "output_type": "display_data"
    }
   ],
   "source": [
    "#Params for plot\n",
    "patch_size = 1\n",
    "show_avg = False\n",
    "show_pixel = True\n",
    "\n",
    "\n",
    "idx_max = np.unravel_index(np.argmax(gt['speed']), shape = gt['speed'].shape)\n",
    "x = np.arange(gt['speed'].shape[0])\n",
    "if show_pixel:\n",
    "    plt.plot(x, gt['speed'][:, idx_max[1], idx_max[2], idx_max[3]]*100,  label = 'ground truth pixel', color = 'black')\n",
    "    plt.plot(x[::2], lr['speed'][:, idx_max[1], idx_max[2], idx_max[3]]*100,'-o' ,label = 'low resolution pixel')\n",
    "    plt.plot(x, pred['speed'][:, idx_max[1], idx_max[2], idx_max[3]]*100,'--', label = 'prediction pixel')\n",
    "\n",
    "if show_avg:\n",
    "    plt.plot(x,         np.average(gt['speed']  [:, idx_max[1]-patch_size:idx_max[1]+patch_size+1, idx_max[2]-patch_size:idx_max[2]+patch_size+1, idx_max[3]-patch_size:idx_max[3]+patch_size+1], axis = (1, 2, 3))*100,  label = 'ground truth avg', color = 'black')\n",
    "    plt.plot(x[::2],    np.average(lr['speed']  [:, idx_max[1]-patch_size:idx_max[1]+patch_size+1, idx_max[2]-patch_size:idx_max[2]+patch_size+1, idx_max[3]-patch_size:idx_max[3]+patch_size+1], axis = (1, 2, 3))*100,'-o' ,label = 'low resolution avg')\n",
    "    plt.plot(x,         np.average(pred['speed'][:, idx_max[1]-patch_size:idx_max[1]+patch_size+1, idx_max[2]-patch_size:idx_max[2]+patch_size+1, idx_max[3]-patch_size:idx_max[3]+patch_size+1], axis = (1, 2, 3))*100,'--', label = 'prediction avg')\n",
    "plt.title(f\"Speed at pixel {idx_max[1::]} with average of number of voxels: {(2*patch_size+1)**3}\")\n",
    "plt.ylabel('Speed (cm/s)')\n",
    "plt.xlabel('Frame')\n",
    "plt.legend()\n",
    "plt.show()\n"
   ]
  },
  {
   "cell_type": "code",
   "execution_count": null,
   "metadata": {},
   "outputs": [],
   "source": [
    "#show_timeframes(gt,lr,  pred,mask, rel_error, dt,  timepoints, axis, idx, save_as = \"Frame_comparison.png\")\n",
    "# check interpolation result\n",
    "\n",
    "\n",
    "p1 = lr['u']\n",
    "p2 = temporal_linear_interpolation(lr[\"u\"],gt[\"u\"].shape)\n",
    "p3 = temporal_cubic_interpolation(lr[\"u\"],gt[\"u\"].shape)\n",
    "p4 = p2.copy()\n",
    "#p3[::2, :, :, :] -= p1\n",
    "p4 -= p3\n",
    "print(\"shapes_\", p1.shape, p2.shape, p3.shape)\n",
    "\n",
    "# min_v = -1#np.min(hr_u_downsampled)\n",
    "# max_v = 1#np.max(hr_u_downsampled)\n",
    "# #p3[np.where(p3 !=0)] = 1\n",
    "\n",
    "\n",
    "@widgets.interact(frame=(0, p2.shape[0]-1), x = (0, p2.shape[1]-1))\n",
    "def f(frame=5, x = 0):\n",
    "    plt.subplot(1, 4, 1)\n",
    "    #plt.imshow(p1[frame//2, x, :, :])#, vmin=min_v, vmax= max_v)\n",
    "    if frame%2 == 0:\n",
    "        plt.imshow(p1[frame//2, x, :, :])#,  vmin = min_v[vel[0]], vmax = max_v[vel[0]], cmap='viridis')\n",
    "    else:\n",
    "        plt.imshow(np.zeros_like(p1[frame//2, x, :, :]))#, vmin = min_v[vel[0]], vmax = max_v[vel[0]], cmap='viridis')\n",
    "    plt.title(\"LR\")\n",
    "    plt.axis('off')\n",
    "\n",
    "    plt.subplot(1, 4, 2)\n",
    "    plt.imshow(p2[frame, x, :, :])#, vmin=min_v, vmax= max_v)\n",
    "    plt.title(\"Linear interpolation\")\n",
    "    plt.axis('off')\n",
    "\n",
    "    plt.subplot(1, 4, 3)\n",
    "    plt.imshow(p3[frame, x, :, :])#, vmin=min_v, vmax= max_v)\n",
    "    plt.title(\"Cubic interpolation\")\n",
    "    plt.axis('off')\n",
    "\n",
    "    plt.subplot(1, 4, 4)\n",
    "    plt.imshow(p4[frame, x, :, :])#, vmin=min_v, vmax= max_v, cmap='gray')\n",
    "    plt.title(\"Difference\")\n",
    "    plt.axis('off')\n",
    "    plt.tight_layout()\n",
    "    plt.show()\n",
    "\n"
   ]
  },
  {
   "cell_type": "code",
   "execution_count": null,
   "metadata": {},
   "outputs": [],
   "source": [
    "#Plot activation functions\n",
    "x = np.linspace(-3,3, 50)\n",
    "plt.plot(x,np.arctan(x),  label = 'arctan')\n",
    "plt.plot( x, np.tanh(x), label = 'tanh')\n",
    "plt.plot(x,x,  label = 'linear')\n",
    "plt.plot( x, np.ones_like(x),'k:')\n",
    "plt.axhline(0, color='black', linewidth=.5)\n",
    "plt.axvline(0, color='black', linewidth=.5)\n",
    "plt.xlabel('x')\n",
    "plt.ylabel('f(x)')\n",
    "plt.legend()\n",
    "plt.grid()"
   ]
  },
  {
   "attachments": {},
   "cell_type": "markdown",
   "metadata": {},
   "source": [
    "## Compare multiple models in the same set"
   ]
  },
  {
   "cell_type": "code",
   "execution_count": null,
   "metadata": {},
   "outputs": [
    {
     "name": "stdout",
     "output_type": "stream",
     "text": [
      "<KeysViewHDF5 ['u_combined', 'v_combined', 'w_combined']>\n",
      "max/min before tanh 54508.934 0.0\n",
      "max/min after tanh 1.0 0.0\n",
      "<KeysViewHDF5 ['u_combined', 'v_combined', 'w_combined']>\n",
      "max/min before tanh 55324.83 0.0\n",
      "max/min after tanh 1.0 0.0\n"
     ]
    },
    {
     "data": {
      "image/png": "[encoded data removed]",
      "text/plain": [
       "<Figure size 432x288 with 1 Axes>"
      ]
     },
     "metadata": {
      "needs_background": "light"
     },
     "output_type": "display_data"
    }
   ],
   "source": [
    "model_names = ['20230301-1654', '20230301-1704'] # resnet: Temporal4DFlowNet_20230301-1641 #\n",
    "set_names = [set_name, set_name]\n",
    "labels = [f'Densenet_{set_names[0]}', f'CSPnet_{set_names[1]}']#[f'{model_names[i][-4::]}_{set_names[i]}' for i in range len(model_names)]\n",
    "\n",
    "\n",
    "plt.title(\"Relative error\")\n",
    "plt.plot(rel_error, label = f'ResNet_{set_name}')\n",
    "# plt.plot(rel_error_lin_interpolation[:-1], label = 'linear interpolation',color = 'yellowgreen')\n",
    "# plt.plot(rel_error_cubic_interpolation, label = 'cubic interpolation', color = 'forestgreen')\n",
    "#plt.plot(50*np.ones(len(rel_error)), 'k:')\n",
    "plt.xlabel(\"Frame\")\n",
    "plt.ylabel(\"Relative error (%)\")\n",
    "#plt.ylim((0, 100))\n",
    "\n",
    "\n",
    "for m_name, s_name, label in zip(model_names, set_names, labels):\n",
    "    _, _, prediction, _ = load_data(m_name, s_name, data_model, step)\n",
    "    rel_err = calculate_relative_error_normalized(prediction[\"u\"], prediction[\"v\"], prediction[\"w\"], gt[\"u\"], gt[\"v\"] , gt[\"w\"], gt[\"mask\"])\n",
    "    # mean_speed = calculate_mean_speed(prediction[\"u\"], prediction[\"v\"], prediction[\"w\"],gt[\"mask\"])\n",
    "    plt.plot(rel_err, label=label)\n",
    "plt.legend()\n",
    "plt.show()"
   ]
  }
 ],
 "metadata": {
  "kernelspec": {
   "display_name": "venv",
   "language": "python",
   "name": "python3"
  },
  "language_info": {
   "codemirror_mode": {
    "name": "ipython",
    "version": 3
   },
   "file_extension": ".py",
   "mimetype": "text/x-python",
   "name": "python",
   "nbconvert_exporter": "python",
   "pygments_lexer": "ipython3",
   "version": "3.6.8"
  },
  "orig_nbformat": 4,
  "vscode": {
   "interpreter": {
    "hash": "585aea28fa87079cc8bffb5238657fadf631df6c8c1a15c467e95f4da754a260"
   }
  }
 },
 "nbformat": 4,
 "nbformat_minor": 2
}
