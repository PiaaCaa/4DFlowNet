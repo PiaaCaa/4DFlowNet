{
 "cells": [
  {
   "cell_type": "markdown",
   "metadata": {},
   "source": [
    "## Quantitaive and qualitative data inspection"
   ]
  },
  {
   "cell_type": "code",
   "execution_count": null,
   "metadata": {
    "metadata": {}
   },
   "outputs": [],
   "source": [
    "# libraries \n",
    "import numpy as np\n",
    "import h5py\n",
    "import ipywidgets as widgets\n",
    "import matplotlib.pyplot as plt\n",
    "from mpl_toolkits.axes_grid1 import make_axes_locatable\n",
    "import matplotlib.animation as animation\n",
    "from IPython.display import display\n",
    "import os\n",
    "import sys\n",
    "sys.path.append('../../src')\n",
    "\n",
    "from utils.evaluate_utils import get_indices\n",
    "from prepare_data.kspace_sampling import adjust_image_size_centered"
   ]
  },
  {
   "cell_type": "markdown",
   "metadata": {},
   "source": [
    "### Qualitative analysis"
   ]
  },
  {
   "cell_type": "code",
   "execution_count": null,
   "metadata": {},
   "outputs": [],
   "source": [
    "# h5_files = ['../../data/CARDIAC/M5_2mm_step2_static_dynamic.h5','../../data/CARDIAC/M6_2mm_step2_static_dynamic.h5', ]\n",
    "h5_files = ['../../results/kspacesampling/FromAlex/result_cs.h5','../../results/kspacesampling/res_cs16_9coils_large.h5', ]\n",
    "file_label = ['result_cs',]\n",
    "\n",
    "# columns to load from data\n",
    "# colnames = ['u', 'v', 'w',  'mask'] #\n",
    "colnames = ['res_vel']\n",
    "\n",
    "# load data\n",
    "data = {}\n",
    "for h5_file, label in zip(h5_files, file_label):\n",
    "    with h5py.File(h5_file, 'r') as f:\n",
    "        for vel in colnames:\n",
    "            data[f'{label}_{vel}'] = np.array(f[vel]).squeeze()\n",
    "\n",
    "            if data[f'{label}_{vel}'].dtype == np.complex64:\n",
    "                data[f'{label}_{vel}_abs'] = np.abs(data[f'{label}_{vel}'])\n",
    "                data[f'{label}_{vel}_ang'] = np.angle(data[f'{label}_{vel}'])\n",
    "\n",
    "\n",
    "if 'abs' in data.keys() and 'ang' in data.keys():\n",
    "    colnames = [f'{col}_abs' for col in colnames] + [f'{col}_ang' for col in colnames]\n",
    "\n",
    "print(colnames)"
   ]
  },
  {
   "cell_type": "code",
   "execution_count": null,
   "metadata": {},
   "outputs": [],
   "source": [
    "\n",
    "T, X, Y, Z= data[f'{file_label[0]}_{colnames[0]}'].shape\n",
    "\n",
    "print(T, X, Y, Z)\n",
    "@widgets.interact(frame=(0, T-1), x = (0, X-1), vel=colnames, axis=[0, 1, 2])\n",
    "def f(frame=5, x = 10, vel = f'{file_label[0]}_{colnames[0]}', axis = 0):\n",
    "    plt.figure(figsize=(7,7))\n",
    "    N = 2\n",
    "    idxs = get_indices(frame,axis, x)\n",
    "\n",
    "\n",
    "    plt.subplot(1, N, 1)\n",
    "    plt.imshow(np.abs(data[f'{label}_{vel}'][idxs]))#,  vmin = min_v[vel[0]], vmax = max_v[vel[0]], cmap='viridis')\n",
    "    plt.title('abs')\n",
    "    plt.axis('off')\n",
    "\n",
    "    plt.subplot(1, N, 2)\n",
    "    plt.imshow(np.angle(data[f'{label}_{vel}'][idxs]))#,  vmin = min_v[vel[0]], vmax = max_v[vel[0]], cmap='viridis')\n",
    "    plt.title('angle')\n",
    "    plt.axis('off')\n",
    "    "
   ]
  },
  {
   "cell_type": "code",
   "execution_count": null,
   "metadata": {},
   "outputs": [],
   "source": [
    "data_dir = '/mnt/c/Users/piacal/Code/SuperResolution4DFlowMRI/Temporal4DFlowNet/data'\n",
    "path_datamodel = f'{data_dir}/CARDIAC/M1_2mm_step2_static_dynamic.h5'\n",
    "\n",
    "# load data\n",
    "with h5py.File(path_datamodel, mode = 'r') as h5:\n",
    "    vel_u = np.array(h5['u'])[::2, :, :, :]\n",
    "    venc_u = np.max(np.array(h5['u_max']))\n",
    "    mask = np.array(h5['mask']).squeeze()[::2, :, :, :]\n",
    "\n",
    "max_v = np.max(vel_u)\n",
    "min_v = np.min(vel_u)\n",
    "\n",
    "\n",
    "#adjust image size\n",
    "data_cs = data[f'{file_label[0]}_res_vel']\n",
    "data_cs = adjust_image_size_centered(data_cs, vel_u.shape)\n",
    "data_cs *= mask\n",
    "\n",
    "print(data_cs.shape, data_cs.min(), data_cs.max(),  vel_u.shape)\n",
    "\n",
    "@widgets.interact(frame=(0, data_cs.shape[0]-1), x = (0, data_cs.shape[1]-1), axis=[0, 1, 2])\n",
    "def f(frame=5, x = 10,  axis = 0):\n",
    "    plt.figure(figsize=(7,7))\n",
    "    N = 2\n",
    "    idxs = get_indices(frame,axis, x)\n",
    "\n",
    "\n",
    "    plt.subplot(1, N, 1)\n",
    "    plt.imshow(data_cs[idxs])#,  vmin = min_v, vmax = max_v, cmap='viridis')\n",
    "    plt.title('compresses sensing recon')\n",
    "    plt.axis('off')\n",
    "\n",
    "    plt.subplot(1, N, 2)\n",
    "    plt.imshow(vel_u[idxs],  vmin = min_v, vmax = max_v, cmap='viridis')\n",
    "    plt.title('original')\n",
    "    plt.axis('off')\n"
   ]
  },
  {
   "cell_type": "code",
   "execution_count": null,
   "metadata": {},
   "outputs": [],
   "source": [
    "#TODO: add vmin and vmax to the plot\n",
    "# make use to also choose the colname (data) such that magnitude and velocity can be plotted next to each other\n",
    "\n",
    "# show interactive plot\n",
    "\n",
    "T, X, Y, Z= data[f'{file_label[0]}_{colnames[0]}'].shape\n",
    "\n",
    "print(T, X, Y, Z)\n",
    "@widgets.interact(frame=(0, T-1), x = (0, X-1), vel=colnames, axis=[0, 1, 2])\n",
    "def f(frame=5, x = 10, vel = f'{file_label[0]}_{colnames[0]}', axis = 0):\n",
    "    plt.figure(figsize=(7,7))\n",
    "    N = len(h5_files)\n",
    "    idxs = get_indices(frame,axis, x)\n",
    "\n",
    "    for i, t_name in enumerate(file_label):\n",
    "\n",
    "        plt.subplot(1, N, i+1)\n",
    "        plt.imshow(data[f'{label}_{vel}'][idxs])#,  vmin = min_v[vel[0]], vmax = max_v[vel[0]], cmap='viridis')\n",
    "        plt.title(t_name)\n",
    "        plt.axis('off')\n",
    "    "
   ]
  },
  {
   "cell_type": "code",
   "execution_count": null,
   "metadata": {},
   "outputs": [],
   "source": [
    "for vel in colnames:\n",
    "    print(np.linalg.norm(data[f'{file_label[0]}_{vel}'][:, :, :, 1:] - data[f'{file_label[1]}_{vel}']))\n",
    "\n",
    "plt.plot(np.mean(data[f'{file_label[0]}_u'], axis=(1, 2, 3)), label='Model5')\n",
    "plt.plot(np.mean(data[f'{file_label[1]}_u'], axis=(1, 2, 3)), label='Model6')\n"
   ]
  },
  {
   "cell_type": "code",
   "execution_count": null,
   "metadata": {},
   "outputs": [],
   "source": [
    "\n",
    "def bbox2_3D(img):\n",
    "    ''' code copied from https://stackoverflow.com/questions/31400769/bounding-box-of-numpy-array'''\n",
    "\n",
    "    r = np.any(img, axis=(1, 2))\n",
    "    c = np.any(img, axis=(0, 2))\n",
    "    z = np.any(img, axis=(0, 1))\n",
    "\n",
    "    rmin, rmax = np.where(r)[0][[0, -1]]\n",
    "    cmin, cmax = np.where(c)[0][[0, -1]]\n",
    "    zmin, zmax = np.where(z)[0][[0, -1]]\n",
    "\n",
    "    return rmin, rmax, cmin, cmax, zmin, zmax\n",
    "\n",
    "rmin, rmax, cmin, cmax, zmin, zmax = bbox2_3D(data[f'{file_label[0]}_mask'])\n",
    "\n",
    "print('mask shape', data[f'{file_label[0]}_mask'].shape[1:])\n",
    "print(rmin, rmax, cmin, cmax, zmin, zmax)\n",
    "\n",
    "bbox = np.zeros(data[f'{file_label[0]}_mask'].shape[1:])\n",
    "bbox[cmin:cmax,zmin:zmax,rmin:rmax] = 1\n"
   ]
  },
  {
   "cell_type": "code",
   "execution_count": null,
   "metadata": {},
   "outputs": [],
   "source": [
    "from mpl_toolkits.mplot3d import Axes3D\n",
    "mask = data[f'{file_label[0]}_mask'].squeeze()[0]\n",
    "\n",
    "x, y, z = np.where(mask == 1)\n",
    "x1, y1, z1 = np.where(data[f'{file_label[0]}_u'][0] != 0)\n",
    "x2, y2, z2 = np.where(bbox == 1)\n",
    "\n",
    "fig = plt.figure()\n",
    "ax = fig.add_subplot(111, projection='3d')\n",
    "ax.scatter(x, y, z)\n",
    "ax.scatter(x1, y1, z1)\n",
    "ax.scatter(x2, y2, z2, alpha = 0.01, c ='b')\n",
    "\n",
    "ax.set_xlabel('X')\n",
    "ax.set_ylabel('Y')\n",
    "ax.set_zlabel('Z')\n",
    "ax.set_xlim(0, X)\n",
    "ax.set_ylim(0, Y)\n",
    "ax.set_zlim(0, Z)\n",
    "plt.show()"
   ]
  },
  {
   "cell_type": "markdown",
   "metadata": {},
   "source": [
    "Create gif Animation of data"
   ]
  },
  {
   "cell_type": "code",
   "execution_count": null,
   "metadata": {},
   "outputs": [],
   "source": [
    "min_v = None\n",
    "max_v = None\n",
    "\n",
    "eval_dir = '../../results/interpolation/plots'\n",
    "if not os.path.exists(eval_dir):\n",
    "    os.makedirs(eval_dir)\n",
    "\n",
    "def create_temporal_comparison_gif_single(idx, data, title):\n",
    "    N_frames = data.shape[0]\n",
    "    fig = plt.figure(frameon=False)\n",
    "    im1 = plt.imshow(data[0, idx, :, :],interpolation='none', vmin=min_v, vmax=max_v)\n",
    "    plt.title(title)\n",
    "    plt.axis('off')\n",
    "    plt.tight_layout()\n",
    "\n",
    "    #initialization function: plot the background of each frame\n",
    "    def init():\n",
    "        im1.set_data(np.random.random((5,5)))\n",
    "        return [im1]\n",
    "\n",
    "    # animation function.  This is called sequentially\n",
    "    def animate(i):\n",
    "        im1.set_array(data[i, idx, :, :])\n",
    "        return [im1]\n",
    "\n",
    "    anim = animation.FuncAnimation(fig,animate, init_func=init, frames = N_frames,interval = 100, ) # in ms)\n",
    "\n",
    "\n",
    "    anim.save(f'{eval_dir}/Animate_{title}_single.gif', fps=10)\n",
    "\n",
    "t, x, y, z = data[f'{file_label[0]}_u'].shape\n",
    "create_temporal_comparison_gif_single(x//2, data[f'{file_label[0]}_v'], file_label[0])"
   ]
  }
 ],
 "metadata": {
  "kernelspec": {
   "display_name": "SR4DFlow",
   "language": "python",
   "name": "python3"
  },
  "language_info": {
   "codemirror_mode": {
    "name": "ipython",
    "version": 3
   },
   "file_extension": ".py",
   "mimetype": "text/x-python",
   "name": "python",
   "nbconvert_exporter": "python",
   "pygments_lexer": "ipython3",
   "version": "3.10.12"
  }
 },
 "nbformat": 4,
 "nbformat_minor": 2
}
