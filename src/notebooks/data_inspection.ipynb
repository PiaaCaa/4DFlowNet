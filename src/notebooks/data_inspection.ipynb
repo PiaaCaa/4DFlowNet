{
 "cells": [
  {
   "cell_type": "markdown",
   "metadata": {},
   "source": [
    "## Quantitaive and qualitative data inspection"
   ]
  },
  {
   "cell_type": "code",
   "execution_count": 2,
   "metadata": {
    "metadata": {}
   },
   "outputs": [],
   "source": [
    "# libraries \n",
    "import numpy as np\n",
    "import h5py\n",
    "import ipywidgets as widgets\n",
    "import matplotlib.pyplot as plt\n",
    "from mpl_toolkits.axes_grid1 import make_axes_locatable\n",
    "import matplotlib.animation as animation\n",
    "from IPython.display import display\n",
    "import os\n",
    "import sys\n",
    "sys.path.append('../../src')\n",
    "\n",
    "from utils.evaluate_utils import get_indices\n",
    "# from prepare_data.kspace_sampling import adjust_image_size_centered"
   ]
  },
  {
   "cell_type": "markdown",
   "metadata": {},
   "source": [
    "### Qualitative analysis"
   ]
  },
  {
   "cell_type": "code",
   "execution_count": 1,
   "metadata": {},
   "outputs": [
    {
     "ename": "NameError",
     "evalue": "name 'h5py' is not defined",
     "output_type": "error",
     "traceback": [
      "\u001b[1;31m---------------------------------------------------------------------------\u001b[0m",
      "\u001b[1;31mNameError\u001b[0m                                 Traceback (most recent call last)",
      "Cell \u001b[1;32mIn[1], line 4\u001b[0m\n\u001b[0;32m      1\u001b[0m path_invivo \u001b[38;5;241m=\u001b[39m \u001b[38;5;124m'\u001b[39m\u001b[38;5;124m../../data/PIA/THORAX/P03/h5/P03.h5\u001b[39m\u001b[38;5;124m'\u001b[39m \n\u001b[0;32m      3\u001b[0m \u001b[38;5;66;03m# load data\u001b[39;00m\n\u001b[1;32m----> 4\u001b[0m \u001b[38;5;28;01mwith\u001b[39;00m \u001b[43mh5py\u001b[49m\u001b[38;5;241m.\u001b[39mFile(path_invivo, \u001b[38;5;124m'\u001b[39m\u001b[38;5;124mr\u001b[39m\u001b[38;5;124m'\u001b[39m) \u001b[38;5;28;01mas\u001b[39;00m h5:\n\u001b[0;32m      5\u001b[0m     \u001b[38;5;28mprint\u001b[39m(h5\u001b[38;5;241m.\u001b[39mkeys())\n\u001b[0;32m      6\u001b[0m     u \u001b[38;5;241m=\u001b[39m np\u001b[38;5;241m.\u001b[39marray(h5[\u001b[38;5;124m'\u001b[39m\u001b[38;5;124mu\u001b[39m\u001b[38;5;124m'\u001b[39m])\n",
      "\u001b[1;31mNameError\u001b[0m: name 'h5py' is not defined"
     ]
    }
   ],
   "source": [
    "path_invivo = '../../data/PIA/THORAX/P03/h5/P03.h5' \n",
    "\n",
    "# load data\n",
    "with h5py.File(path_invivo, 'r') as h5:\n",
    "    print(h5.keys())\n",
    "    u = np.array(h5['u'])\n",
    "    v = np.array(h5['v'])\n",
    "    w = np.array(h5['w'])\n",
    "    print('vencs:', h5['u_max'][0],  h5['v_max'][0], h5['w_max'][0],)\n",
    "    mask = np.array(h5['mask'])\n",
    "    if mask.ndim == 3:\n",
    "        mask = mask[np.newaxis, ...]\n",
    "        mask = np.repeat(mask, u.shape[0], axis=0)\n",
    "\n",
    "\n",
    "# u *= mask\n",
    "T, X, Y, Z = u.shape\n",
    "\n",
    "\n",
    "@widgets.interact(frame=(0, T-1), x=(0, X-1), axis=[0, 1, 2])\n",
    "def visualize_lr(frame=0, x=0, axis=0):\n",
    "    plt.figure(figsize=(12, 7))\n",
    "    N = 4\n",
    "    idxs_hr = get_indices(frame, axis, x)\n",
    "\n",
    "    plt.subplot(1, N, 1)\n",
    "    plt.imshow(u[idxs_hr]*mask[idxs_hr])\n",
    "    plt.title('u')\n",
    "    plt.axis('off')\n",
    "\n",
    "    plt.subplot(1, N, 2)\n",
    "    plt.imshow(v[idxs_hr]*mask[idxs_hr])\n",
    "    plt.title('v')\n",
    "    plt.axis('off')\n",
    "\n",
    "    plt.subplot(1, N, 3)\n",
    "    plt.imshow(w[idxs_hr]*mask[idxs_hr])\n",
    "    plt.title('v')\n",
    "    plt.axis('off')\n",
    "\n",
    "    plt.subplot(1, N, 4)\n",
    "    plt.imshow(mask[idxs_hr])\n",
    "    plt.title('mask')\n",
    "    # plt.axis('off')"
   ]
  }
 ],
 "metadata": {
  "kernelspec": {
   "display_name": "SR4DFlow",
   "language": "python",
   "name": "python3"
  },
  "language_info": {
   "codemirror_mode": {
    "name": "ipython",
    "version": 3
   },
   "file_extension": ".py",
   "mimetype": "text/x-python",
   "name": "python",
   "nbconvert_exporter": "python",
   "pygments_lexer": "ipython3",
   "version": "3.8.18"
  }
 },
 "nbformat": 4,
 "nbformat_minor": 2
}
