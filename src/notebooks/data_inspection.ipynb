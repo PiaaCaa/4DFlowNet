{
 "cells": [
  {
   "cell_type": "markdown",
   "metadata": {},
   "source": [
    "## Quantitaive and qualitative data inspection"
   ]
  },
  {
   "cell_type": "code",
   "execution_count": 2,
   "metadata": {
    "metadata": {}
   },
   "outputs": [],
   "source": [
    "# libraries \n",
    "import numpy as np\n",
    "import h5py\n",
    "import ipywidgets as widgets\n",
    "import matplotlib.pyplot as plt\n",
    "from mpl_toolkits.axes_grid1 import make_axes_locatable\n",
    "import matplotlib.animation as animation\n",
    "from IPython.display import display\n",
    "import os\n",
    "import sys\n",
    "sys.path.append('../../src')\n",
    "\n",
    "from utils.evaluate_utils import get_indices\n",
    "# from prepare_data.kspace_sampling import adjust_image_size_centered"
   ]
  },
  {
   "cell_type": "markdown",
   "metadata": {},
   "source": [
    "### Qualitative analysis"
   ]
  },
  {
   "cell_type": "code",
   "execution_count": 3,
   "metadata": {},
   "outputs": [
    {
     "ename": "FileNotFoundError",
     "evalue": "[Errno 2] Unable to synchronously open file (unable to open file: name = '../../data/PairedInvivo/Volunteer3_4D_WholeHeart_2mm_20ms.h5', errno = 2, error message = 'No such file or directory', flags = 0, o_flags = 0)",
     "output_type": "error",
     "traceback": [
      "\u001b[1;31m---------------------------------------------------------------------------\u001b[0m",
      "\u001b[1;31mFileNotFoundError\u001b[0m                         Traceback (most recent call last)",
      "Cell \u001b[1;32mIn[3], line 4\u001b[0m\n\u001b[0;32m      1\u001b[0m path_invivo \u001b[38;5;241m=\u001b[39m \u001b[38;5;124m'\u001b[39m\u001b[38;5;124m../../data/PairedInvivo/Volunteer3_4D_WholeHeart_2mm_20ms.h5\u001b[39m\u001b[38;5;124m'\u001b[39m \u001b[38;5;66;03m#output_dir = 'data/paired_invivo'; output_filename = 'v4_wholeheart_25mm_40ms.h5'\u001b[39;00m\n\u001b[0;32m      3\u001b[0m \u001b[38;5;66;03m# load data\u001b[39;00m\n\u001b[1;32m----> 4\u001b[0m \u001b[38;5;28;01mwith\u001b[39;00m \u001b[43mh5py\u001b[49m\u001b[38;5;241;43m.\u001b[39;49m\u001b[43mFile\u001b[49m\u001b[43m(\u001b[49m\u001b[43mpath_invivo\u001b[49m\u001b[43m,\u001b[49m\u001b[43m \u001b[49m\u001b[38;5;124;43m'\u001b[39;49m\u001b[38;5;124;43mr\u001b[39;49m\u001b[38;5;124;43m'\u001b[39;49m\u001b[43m)\u001b[49m \u001b[38;5;28;01mas\u001b[39;00m h5:\n\u001b[0;32m      5\u001b[0m     \u001b[38;5;28mprint\u001b[39m(h5\u001b[38;5;241m.\u001b[39mkeys())\n\u001b[0;32m      6\u001b[0m     u \u001b[38;5;241m=\u001b[39m np\u001b[38;5;241m.\u001b[39marray(h5[\u001b[38;5;124m'\u001b[39m\u001b[38;5;124mu\u001b[39m\u001b[38;5;124m'\u001b[39m])\u001b[38;5;241m.\u001b[39mtranspose(\u001b[38;5;241m3\u001b[39m, \u001b[38;5;241m0\u001b[39m, \u001b[38;5;241m1\u001b[39m,\u001b[38;5;241m2\u001b[39m)\n",
      "File \u001b[1;32mc:\\Users\\piacal\\AppData\\Local\\miniconda3\\envs\\SR4DFlow\\lib\\site-packages\\h5py\\_hl\\files.py:562\u001b[0m, in \u001b[0;36mFile.__init__\u001b[1;34m(self, name, mode, driver, libver, userblock_size, swmr, rdcc_nslots, rdcc_nbytes, rdcc_w0, track_order, fs_strategy, fs_persist, fs_threshold, fs_page_size, page_buf_size, min_meta_keep, min_raw_keep, locking, alignment_threshold, alignment_interval, meta_block_size, **kwds)\u001b[0m\n\u001b[0;32m    553\u001b[0m     fapl \u001b[38;5;241m=\u001b[39m make_fapl(driver, libver, rdcc_nslots, rdcc_nbytes, rdcc_w0,\n\u001b[0;32m    554\u001b[0m                      locking, page_buf_size, min_meta_keep, min_raw_keep,\n\u001b[0;32m    555\u001b[0m                      alignment_threshold\u001b[38;5;241m=\u001b[39malignment_threshold,\n\u001b[0;32m    556\u001b[0m                      alignment_interval\u001b[38;5;241m=\u001b[39malignment_interval,\n\u001b[0;32m    557\u001b[0m                      meta_block_size\u001b[38;5;241m=\u001b[39mmeta_block_size,\n\u001b[0;32m    558\u001b[0m                      \u001b[38;5;241m*\u001b[39m\u001b[38;5;241m*\u001b[39mkwds)\n\u001b[0;32m    559\u001b[0m     fcpl \u001b[38;5;241m=\u001b[39m make_fcpl(track_order\u001b[38;5;241m=\u001b[39mtrack_order, fs_strategy\u001b[38;5;241m=\u001b[39mfs_strategy,\n\u001b[0;32m    560\u001b[0m                      fs_persist\u001b[38;5;241m=\u001b[39mfs_persist, fs_threshold\u001b[38;5;241m=\u001b[39mfs_threshold,\n\u001b[0;32m    561\u001b[0m                      fs_page_size\u001b[38;5;241m=\u001b[39mfs_page_size)\n\u001b[1;32m--> 562\u001b[0m     fid \u001b[38;5;241m=\u001b[39m \u001b[43mmake_fid\u001b[49m\u001b[43m(\u001b[49m\u001b[43mname\u001b[49m\u001b[43m,\u001b[49m\u001b[43m \u001b[49m\u001b[43mmode\u001b[49m\u001b[43m,\u001b[49m\u001b[43m \u001b[49m\u001b[43muserblock_size\u001b[49m\u001b[43m,\u001b[49m\u001b[43m \u001b[49m\u001b[43mfapl\u001b[49m\u001b[43m,\u001b[49m\u001b[43m \u001b[49m\u001b[43mfcpl\u001b[49m\u001b[43m,\u001b[49m\u001b[43m \u001b[49m\u001b[43mswmr\u001b[49m\u001b[38;5;241;43m=\u001b[39;49m\u001b[43mswmr\u001b[49m\u001b[43m)\u001b[49m\n\u001b[0;32m    564\u001b[0m \u001b[38;5;28;01mif\u001b[39;00m \u001b[38;5;28misinstance\u001b[39m(libver, \u001b[38;5;28mtuple\u001b[39m):\n\u001b[0;32m    565\u001b[0m     \u001b[38;5;28mself\u001b[39m\u001b[38;5;241m.\u001b[39m_libver \u001b[38;5;241m=\u001b[39m libver\n",
      "File \u001b[1;32mc:\\Users\\piacal\\AppData\\Local\\miniconda3\\envs\\SR4DFlow\\lib\\site-packages\\h5py\\_hl\\files.py:235\u001b[0m, in \u001b[0;36mmake_fid\u001b[1;34m(name, mode, userblock_size, fapl, fcpl, swmr)\u001b[0m\n\u001b[0;32m    233\u001b[0m     \u001b[38;5;28;01mif\u001b[39;00m swmr \u001b[38;5;129;01mand\u001b[39;00m swmr_support:\n\u001b[0;32m    234\u001b[0m         flags \u001b[38;5;241m|\u001b[39m\u001b[38;5;241m=\u001b[39m h5f\u001b[38;5;241m.\u001b[39mACC_SWMR_READ\n\u001b[1;32m--> 235\u001b[0m     fid \u001b[38;5;241m=\u001b[39m \u001b[43mh5f\u001b[49m\u001b[38;5;241;43m.\u001b[39;49m\u001b[43mopen\u001b[49m\u001b[43m(\u001b[49m\u001b[43mname\u001b[49m\u001b[43m,\u001b[49m\u001b[43m \u001b[49m\u001b[43mflags\u001b[49m\u001b[43m,\u001b[49m\u001b[43m \u001b[49m\u001b[43mfapl\u001b[49m\u001b[38;5;241;43m=\u001b[39;49m\u001b[43mfapl\u001b[49m\u001b[43m)\u001b[49m\n\u001b[0;32m    236\u001b[0m \u001b[38;5;28;01melif\u001b[39;00m mode \u001b[38;5;241m==\u001b[39m \u001b[38;5;124m'\u001b[39m\u001b[38;5;124mr+\u001b[39m\u001b[38;5;124m'\u001b[39m:\n\u001b[0;32m    237\u001b[0m     fid \u001b[38;5;241m=\u001b[39m h5f\u001b[38;5;241m.\u001b[39mopen(name, h5f\u001b[38;5;241m.\u001b[39mACC_RDWR, fapl\u001b[38;5;241m=\u001b[39mfapl)\n",
      "File \u001b[1;32mh5py\\_objects.pyx:54\u001b[0m, in \u001b[0;36mh5py._objects.with_phil.wrapper\u001b[1;34m()\u001b[0m\n",
      "File \u001b[1;32mh5py\\_objects.pyx:55\u001b[0m, in \u001b[0;36mh5py._objects.with_phil.wrapper\u001b[1;34m()\u001b[0m\n",
      "File \u001b[1;32mh5py\\h5f.pyx:102\u001b[0m, in \u001b[0;36mh5py.h5f.open\u001b[1;34m()\u001b[0m\n",
      "\u001b[1;31mFileNotFoundError\u001b[0m: [Errno 2] Unable to synchronously open file (unable to open file: name = '../../data/PairedInvivo/Volunteer3_4D_WholeHeart_2mm_20ms.h5', errno = 2, error message = 'No such file or directory', flags = 0, o_flags = 0)"
     ]
    }
   ],
   "source": [
    "path_invivo = '../../data/PairedInvivo/Volunteer3_4D_WholeHeart_2mm_20ms.h5' #output_dir = 'data/paired_invivo'; output_filename = 'v4_wholeheart_25mm_40ms.h5'\n",
    "\n",
    "# load data\n",
    "with h5py.File(path_invivo, 'r') as h5:\n",
    "    print(h5.keys())\n",
    "    u = np.array(h5['u']).transpose(3, 0, 1,2)\n",
    "    v = np.array(h5['v']).transpose(3, 0, 1,2)\n",
    "    w = np.array(h5['w']).transpose(3, 0, 1,2)\n",
    "    print('vencs:', h5['u_max'][0],  h5['v_max'][0], h5['w_max'][0],)\n",
    "    # mask = np.array(data['mask'])\n",
    "    print(u.shape)\n",
    "\n",
    "idx_spatial = np.index_exp[:, :, 20:90, :]\n",
    "\n",
    "\n",
    "# u = u[idx_spatial]\n",
    "# mask = mask[idx_spatial]\n",
    "\n",
    "# u *= mask\n",
    "T, X, Y, Z = u.shape\n",
    "\n",
    "\n",
    "@widgets.interact(frame=(0, T-1), x=(0, X-1), axis=[0, 1, 2])\n",
    "def visualize_lr(frame=0, x=0, axis=0):\n",
    "    plt.figure(figsize=(7, 7))\n",
    "    N = 2\n",
    "    idxs_hr = get_indices(frame, axis, x)\n",
    "\n",
    "    plt.subplot(1, N, 1)\n",
    "    plt.imshow(u[idxs_hr])\n",
    "    plt.title('u')\n",
    "    plt.axis('off')\n",
    "\n",
    "    plt.subplot(1, N, 2)\n",
    "    plt.imshow(v[idxs_hr])\n",
    "    plt.title('v')\n",
    "    plt.axis('off')"
   ]
  },
  {
   "cell_type": "code",
   "execution_count": 1,
   "metadata": {},
   "outputs": [
    {
     "ename": "NameError",
     "evalue": "name 'h5py' is not defined",
     "output_type": "error",
     "traceback": [
      "\u001b[1;31m---------------------------------------------------------------------------\u001b[0m",
      "\u001b[1;31mNameError\u001b[0m                                 Traceback (most recent call last)",
      "Cell \u001b[1;32mIn[1], line 4\u001b[0m\n\u001b[0;32m      1\u001b[0m path_invivo \u001b[38;5;241m=\u001b[39m \u001b[38;5;124m'\u001b[39m\u001b[38;5;124m../../data/PIA/THORAX/P03/h5/P03.h5\u001b[39m\u001b[38;5;124m'\u001b[39m \n\u001b[0;32m      3\u001b[0m \u001b[38;5;66;03m# load data\u001b[39;00m\n\u001b[1;32m----> 4\u001b[0m \u001b[38;5;28;01mwith\u001b[39;00m \u001b[43mh5py\u001b[49m\u001b[38;5;241m.\u001b[39mFile(path_invivo, \u001b[38;5;124m'\u001b[39m\u001b[38;5;124mr\u001b[39m\u001b[38;5;124m'\u001b[39m) \u001b[38;5;28;01mas\u001b[39;00m h5:\n\u001b[0;32m      5\u001b[0m     \u001b[38;5;28mprint\u001b[39m(h5\u001b[38;5;241m.\u001b[39mkeys())\n\u001b[0;32m      6\u001b[0m     u \u001b[38;5;241m=\u001b[39m np\u001b[38;5;241m.\u001b[39marray(h5[\u001b[38;5;124m'\u001b[39m\u001b[38;5;124mu\u001b[39m\u001b[38;5;124m'\u001b[39m])\n",
      "\u001b[1;31mNameError\u001b[0m: name 'h5py' is not defined"
     ]
    }
   ],
   "source": [
    "path_invivo = '../../data/PIA/THORAX/P03/h5/P03.h5' \n",
    "\n",
    "# load data\n",
    "with h5py.File(path_invivo, 'r') as h5:\n",
    "    print(h5.keys())\n",
    "    u = np.array(h5['u'])\n",
    "    v = np.array(h5['v'])\n",
    "    w = np.array(h5['w'])\n",
    "    print('vencs:', h5['u_max'][0],  h5['v_max'][0], h5['w_max'][0],)\n",
    "    mask = np.array(h5['mask'])\n",
    "    if mask.ndim == 3:\n",
    "        mask = mask[np.newaxis, ...]\n",
    "        mask = np.repeat(mask, u.shape[0], axis=0)\n",
    "    print(u.shape)\n",
    "\n",
    "idx_spatial = np.index_exp[:, :, 20:90, :]\n",
    "# u = u[idx_spatial]\n",
    "# mask = mask[idx_spatial]\n",
    "\n",
    "# u *= mask\n",
    "T, X, Y, Z = u.shape\n",
    "\n",
    "\n",
    "@widgets.interact(frame=(0, T-1), x=(0, X-1), axis=[0, 1, 2])\n",
    "def visualize_lr(frame=0, x=0, axis=0):\n",
    "    plt.figure(figsize=(12, 7))\n",
    "    N = 4\n",
    "    idxs_hr = get_indices(frame, axis, x)\n",
    "\n",
    "    plt.subplot(1, N, 1)\n",
    "    plt.imshow(u[idxs_hr]*mask[idxs_hr])\n",
    "    plt.title('u')\n",
    "    plt.axis('off')\n",
    "\n",
    "    plt.subplot(1, N, 2)\n",
    "    plt.imshow(v[idxs_hr]*mask[idxs_hr])\n",
    "    plt.title('v')\n",
    "    plt.axis('off')\n",
    "\n",
    "    plt.subplot(1, N, 3)\n",
    "    plt.imshow(w[idxs_hr]*mask[idxs_hr])\n",
    "    plt.title('v')\n",
    "    plt.axis('off')\n",
    "\n",
    "    plt.subplot(1, N, 4)\n",
    "    plt.imshow(mask[idxs_hr])\n",
    "    plt.title('mask')\n",
    "    # plt.axis('off')"
   ]
  },
  {
   "cell_type": "code",
   "execution_count": null,
   "metadata": {},
   "outputs": [],
   "source": [
    "# h5_files = ['../../data/CARDIAC/M5_2mm_step2_static_dynamic.h5','../../data/CARDIAC/M6_2mm_step2_static_dynamic.h5', ]\n",
    "h5_files = ['../../results/kspacesampling/FromAlex/result_cs.h5','../../results/kspacesampling/res_cs16_9coils_large.h5', ]\n",
    "file_label = ['result_cs',]\n",
    "\n",
    "# columns to load from data\n",
    "# colnames = ['u', 'v', 'w',  'mask'] #\n",
    "colnames = ['res_vel']\n",
    "\n",
    "# load data\n",
    "h5 = {}\n",
    "for h5_file, label in zip(h5_files, file_label):\n",
    "    with h5py.File(h5_file, 'r') as f:\n",
    "        for vel in colnames:\n",
    "            h5[f'{label}_{vel}'] = np.array(f[vel]).squeeze()\n",
    "\n",
    "            if h5[f'{label}_{vel}'].dtype == np.complex64:\n",
    "                h5[f'{label}_{vel}_abs'] = np.abs(h5[f'{label}_{vel}'])\n",
    "                h5[f'{label}_{vel}_ang'] = np.angle(h5[f'{label}_{vel}'])\n",
    "\n",
    "\n",
    "if 'abs' in h5.keys() and 'ang' in h5.keys():\n",
    "    colnames = [f'{col}_abs' for col in colnames] + [f'{col}_ang' for col in colnames]\n",
    "\n",
    "print(colnames)"
   ]
  },
  {
   "cell_type": "code",
   "execution_count": null,
   "metadata": {},
   "outputs": [],
   "source": [
    "\n",
    "T, X, Y, Z= h5[f'{file_label[0]}_{colnames[0]}'].shape\n",
    "\n",
    "print(T, X, Y, Z)\n",
    "@widgets.interact(frame=(0, T-1), x = (0, X-1), vel=colnames, axis=[0, 1, 2])\n",
    "def f(frame=5, x = 10, vel = f'{file_label[0]}_{colnames[0]}', axis = 0):\n",
    "    plt.figure(figsize=(7,7))\n",
    "    N = 2\n",
    "    idxs = get_indices(frame,axis, x)\n",
    "\n",
    "\n",
    "    plt.subplot(1, N, 1)\n",
    "    plt.imshow(np.abs(h5[f'{label}_{vel}'][idxs]))#,  vmin = min_v[vel[0]], vmax = max_v[vel[0]], cmap='viridis')\n",
    "    plt.title('abs')\n",
    "    plt.axis('off')\n",
    "\n",
    "    plt.subplot(1, N, 2)\n",
    "    plt.imshow(np.angle(h5[f'{label}_{vel}'][idxs]))#,  vmin = min_v[vel[0]], vmax = max_v[vel[0]], cmap='viridis')\n",
    "    plt.title('angle')\n",
    "    plt.axis('off')\n",
    "    "
   ]
  },
  {
   "cell_type": "code",
   "execution_count": 4,
   "metadata": {},
   "outputs": [
    {
     "ename": "NameError",
     "evalue": "name 'file_label' is not defined",
     "output_type": "error",
     "traceback": [
      "\u001b[1;31m---------------------------------------------------------------------------\u001b[0m",
      "\u001b[1;31mNameError\u001b[0m                                 Traceback (most recent call last)",
      "Cell \u001b[1;32mIn[4], line 15\u001b[0m\n\u001b[0;32m     11\u001b[0m min_u \u001b[38;5;241m=\u001b[39m np\u001b[38;5;241m.\u001b[39mmin(lr_u)\n\u001b[0;32m     14\u001b[0m \u001b[38;5;66;03m#adjust image size\u001b[39;00m\n\u001b[1;32m---> 15\u001b[0m data_cs \u001b[38;5;241m=\u001b[39m h5[\u001b[38;5;124mf\u001b[39m\u001b[38;5;124m'\u001b[39m\u001b[38;5;132;01m{\u001b[39;00mfile_label[\u001b[38;5;241m0\u001b[39m]\u001b[38;5;132;01m}\u001b[39;00m\u001b[38;5;124m_res_vel\u001b[39m\u001b[38;5;124m'\u001b[39m]\n\u001b[0;32m     16\u001b[0m data_cs \u001b[38;5;241m=\u001b[39m adjust_image_size_centered(data_cs, lr_u\u001b[38;5;241m.\u001b[39mshape)\n\u001b[0;32m     17\u001b[0m data_cs \u001b[38;5;241m*\u001b[39m\u001b[38;5;241m=\u001b[39m mask\n",
      "\u001b[1;31mNameError\u001b[0m: name 'file_label' is not defined"
     ]
    }
   ],
   "source": [
    "data_dir = '../../data'\n",
    "path_datamodel = f'{data_dir}/CARDIAC/M4_2mm_step2_static_dynamic.h5'\n",
    "\n",
    "# load data\n",
    "with h5py.File(path_datamodel, mode = 'r') as h5:\n",
    "    lr_u = np.array(h5['u'])[::2, :, :, :]\n",
    "    venc_u = np.max(np.array(h5['u_max']))\n",
    "    mask = np.array(h5['mask']).squeeze()[::2, :, :, :]\n",
    "\n",
    "max_u = np.max(lr_u)\n",
    "min_u = np.min(lr_u)\n",
    "\n",
    "\n",
    "#adjust image size\n",
    "data_cs = h5[f'{file_label[0]}_res_vel']\n",
    "data_cs = adjust_image_size_centered(data_cs, lr_u.shape)\n",
    "data_cs *= mask\n",
    "\n",
    "print(data_cs.shape, data_cs.min(), data_cs.max(),  lr_u.shape)\n",
    "\n",
    "@widgets.interact(frame=(0, data_cs.shape[0]-1), x = (0, data_cs.shape[1]-1), axis=[0, 1, 2])\n",
    "def f(frame=5, x = 10,  axis = 0):\n",
    "    plt.figure(figsize=(7,7))\n",
    "    N = 2\n",
    "    idxs = get_indices(frame,axis, x)\n",
    "\n",
    "\n",
    "    plt.subplot(1, N, 1)\n",
    "    plt.imshow(data_cs[idxs])#,  vmin = min_v, vmax = max_v, cmap='viridis')\n",
    "    plt.title('compresses sensing recon')\n",
    "    plt.axis('off')\n",
    "\n",
    "    plt.subplot(1, N, 2)\n",
    "    plt.imshow(lr_u[idxs],  vmin = min_u, vmax = max_u, cmap='viridis')\n",
    "    plt.title('original')\n",
    "    plt.axis('off')\n"
   ]
  },
  {
   "cell_type": "code",
   "execution_count": null,
   "metadata": {},
   "outputs": [],
   "source": [
    "#TODO: add vmin and vmax to the plot\n",
    "# make use to also choose the colname (data) such that magnitude and velocity can be plotted next to each other\n",
    "\n",
    "# show interactive plot\n",
    "\n",
    "T, X, Y, Z= h5[f'{file_label[0]}_{colnames[0]}'].shape\n",
    "\n",
    "print(T, X, Y, Z)\n",
    "@widgets.interact(frame=(0, T-1), x = (0, X-1), vel=colnames, axis=[0, 1, 2])\n",
    "def f(frame=5, x = 10, vel = f'{file_label[0]}_{colnames[0]}', axis = 0):\n",
    "    plt.figure(figsize=(7,7))\n",
    "    N = len(h5_files)\n",
    "    idxs = get_indices(frame,axis, x)\n",
    "\n",
    "    for i, t_name in enumerate(file_label):\n",
    "\n",
    "        plt.subplot(1, N, i+1)\n",
    "        plt.imshow(h5[f'{label}_{vel}'][idxs])#,  vmin = min_v[vel[0]], vmax = max_v[vel[0]], cmap='viridis')\n",
    "        plt.title(t_name)\n",
    "        plt.axis('off')\n",
    "    "
   ]
  },
  {
   "cell_type": "code",
   "execution_count": null,
   "metadata": {},
   "outputs": [],
   "source": [
    "for vel in colnames:\n",
    "    print(np.linalg.norm(h5[f'{file_label[0]}_{vel}'][:, :, :, 1:] - h5[f'{file_label[1]}_{vel}']))\n",
    "\n",
    "plt.plot(np.mean(h5[f'{file_label[0]}_u'], axis=(1, 2, 3)), label='Model5')\n",
    "plt.plot(np.mean(h5[f'{file_label[1]}_u'], axis=(1, 2, 3)), label='Model6')\n"
   ]
  },
  {
   "cell_type": "code",
   "execution_count": 5,
   "metadata": {},
   "outputs": [
    {
     "name": "stdout",
     "output_type": "stream",
     "text": [
      "(99, 62, 58, 84) (99, 62, 58, 84)\n"
     ]
    },
    {
     "data": {
      "text/plain": [
       "[<matplotlib.lines.Line2D at 0x14a839e9970>]"
      ]
     },
     "execution_count": 5,
     "metadata": {},
     "output_type": "execute_result"
    },
    {
     "data": {
      "image/png": "[encoded data removed]",
      "text/plain": [
       "<Figure size 640x480 with 1 Axes>"
      ]
     },
     "metadata": {},
     "output_type": "display_data"
    }
   ],
   "source": [
    "data_dir = '../../data/CARDIAC'\n",
    "path_datamodel = f'{data_dir}/M4_2mm_step1_static_dynamic.h5'\n",
    "\n",
    "with h5py.File(path_datamodel, mode = 'r') as h5:\n",
    "    u = np.array(h5['u'])\n",
    "    mask = np.array(h5['mask']).squeeze()\n",
    "\n",
    "print(u.shape, mask.shape)\n",
    "plt.plot(np.mean(u, axis=(1, 2, 3), where = mask.astype(bool)), label='HR')"
   ]
  },
  {
   "cell_type": "code",
   "execution_count": 7,
   "metadata": {},
   "outputs": [
    {
     "name": "stdout",
     "output_type": "stream",
     "text": [
      "2.957847 2.957847 2.957847\n"
     ]
    },
    {
     "data": {
      "application/vnd.jupyter.widget-view+json": {
       "model_id": "6b454f6ca00a4e9fa67bef8c5638e654",
       "version_major": 2,
       "version_minor": 0
      },
      "text/plain": [
       "interactive(children=(IntSlider(value=0, description='frame', max=49), IntSlider(value=0, description='x', max…"
      ]
     },
     "metadata": {},
     "output_type": "display_data"
    }
   ],
   "source": [
    "data_dir = '../../data/CARDIAC'\n",
    "hr_filename = 'M2_2mm_step2_cs_invivoP04_hr.h5'\n",
    "lr_filename = 'M2_2mm_step2_cs_invivoP04_lr.h5'\n",
    "# lr_filename = 'output_M4_lr_magninvivo_noise90TBD.h5'\n",
    "\n",
    "# Load the lr file\n",
    "with h5py.File(f'{data_dir}/{lr_filename}', 'r') as f:\n",
    "    lr_u = np.array(f['u'])  \n",
    "    venc_u = np.max(np.array(f['u_max']))\n",
    "    venc_v = np.max(np.array(f['v_max']))\n",
    "    venc_w = np.max(np.array(f['w_max']))\n",
    "\n",
    "# Load the hr file\n",
    "with h5py.File(f'{data_dir}/{hr_filename}', 'r') as f:\n",
    "    hr_u = np.array(f['u'])\n",
    "    mask = np.array(f['mask'])\n",
    "    \n",
    "\n",
    "\n",
    "print(venc_u, venc_v, venc_w)\n",
    "\n",
    "\n",
    "min_u = np.quantile(hr_u[np.where(mask !=0)].flatten(), 0.01)\n",
    "max_u = np.quantile(hr_u[np.where(mask !=0)].flatten(), 0.99)\n",
    "\n",
    "\n",
    "# lr_u *=mask[::2]\n",
    "# Visualize the lr data\n",
    "T, X, Y, Z = hr_u.shape\n",
    "@widgets.interact(frame=(0, T-1), x=(0, X-1), axis=[0, 1, 2])\n",
    "def visualize_lr(frame=0, x=0, axis=0):\n",
    "    plt.figure(figsize=(7, 7))\n",
    "    N = 2\n",
    "    idxs_hr = get_indices(frame, axis, x)\n",
    "    idxs_lr = get_indices(frame//2, axis, x)\n",
    "\n",
    "    plt.subplot(1, N, 1)\n",
    "    plt.imshow(lr_u[idxs_lr], vmin=min_u, vmax=max_u, cmap='plasma')\n",
    "    plt.title('LR Data ')\n",
    "    plt.axis('off')\n",
    "\n",
    "    plt.subplot(1, N, 2)\n",
    "    plt.imshow(hr_u[idxs_hr], vmin=min_u, vmax=max_u, cmap='plasma')\n",
    "    plt.title('HR Data')\n",
    "    plt.axis('off')"
   ]
  },
  {
   "cell_type": "code",
   "execution_count": 10,
   "metadata": {},
   "outputs": [
    {
     "name": "stdout",
     "output_type": "stream",
     "text": [
      "(25, 84, 60, 96)\n"
     ]
    }
   ],
   "source": [
    "print(lr_u.shape)"
   ]
  },
  {
   "cell_type": "code",
   "execution_count": 16,
   "metadata": {},
   "outputs": [
    {
     "data": {
      "image/png": "[encoded data removed]",
      "text/plain": [
       "<Figure size 640x480 with 1 Axes>"
      ]
     },
     "metadata": {},
     "output_type": "display_data"
    }
   ],
   "source": [
    "\n",
    "timepoints = [12, 13, 14, 15]\n",
    "for timepoint in timepoints:\n",
    "    # extract slices and save \n",
    "    idx_slice_hr = np.index_exp[timepoint, 53, 5::, 5:60]\n",
    "    idx_slice_lr = np.index_exp[timepoint//2, 53, 5::, 5:60]\n",
    "    plt.imshow(lr_u[idx_slice_lr], vmin=min_u, vmax=max_u, cmap='plasma')\n",
    "    plt.axis('off')\n",
    "    plt.savefig(f'lr_data_{timepoint//2}.png', bbox_inches='tight', transparent=True)\n",
    "    plt.imshow(hr_u[idx_slice_hr], vmin=min_u, vmax=max_u, cmap='plasma')\n",
    "    plt.axis('off')\n",
    "    plt.savefig(f'hr_data_{timepoint}.png', bbox_inches='tight', transparent=True)"
   ]
  },
  {
   "cell_type": "code",
   "execution_count": null,
   "metadata": {},
   "outputs": [],
   "source": [
    "plt.plot(range(0, 50, 2), np.mean(lr_u, axis=(1, 2, 3), where = mask[::2].astype(bool)), label='LR')\n",
    "plt.plot(np.mean(hr_u, axis=(1, 2, 3), where = mask.astype(bool)), label='HR')\n",
    "plt.xlabel('Frame')\n",
    "plt.ylabel('Mean Velocity (m/s)')\n",
    "plt.legend()"
   ]
  },
  {
   "cell_type": "code",
   "execution_count": null,
   "metadata": {},
   "outputs": [],
   "source": [
    "\n",
    "def bbox2_3D(img):\n",
    "    ''' code copied from https://stackoverflow.com/questions/31400769/bounding-box-of-numpy-array'''\n",
    "\n",
    "    r = np.any(img, axis=(1, 2))\n",
    "    c = np.any(img, axis=(0, 2))\n",
    "    z = np.any(img, axis=(0, 1))\n",
    "\n",
    "    rmin, rmax = np.where(r)[0][[0, -1]]\n",
    "    cmin, cmax = np.where(c)[0][[0, -1]]\n",
    "    zmin, zmax = np.where(z)[0][[0, -1]]\n",
    "\n",
    "    return rmin, rmax, cmin, cmax, zmin, zmax\n",
    "\n",
    "rmin, rmax, cmin, cmax, zmin, zmax = bbox2_3D(h5[f'{file_label[0]}_mask'])\n",
    "\n",
    "print('mask shape', h5[f'{file_label[0]}_mask'].shape[1:])\n",
    "print(rmin, rmax, cmin, cmax, zmin, zmax)\n",
    "\n",
    "bbox = np.zeros(h5[f'{file_label[0]}_mask'].shape[1:])\n",
    "bbox[cmin:cmax,zmin:zmax,rmin:rmax] = 1\n"
   ]
  },
  {
   "cell_type": "code",
   "execution_count": null,
   "metadata": {},
   "outputs": [],
   "source": [
    "from mpl_toolkits.mplot3d import Axes3D\n",
    "mask = h5[f'{file_label[0]}_mask'].squeeze()[0]\n",
    "\n",
    "x, y, z = np.where(mask == 1)\n",
    "x1, y1, z1 = np.where(h5[f'{file_label[0]}_u'][0] != 0)\n",
    "x2, y2, z2 = np.where(bbox == 1)\n",
    "\n",
    "fig = plt.figure()\n",
    "ax = fig.add_subplot(111, projection='3d')\n",
    "ax.scatter(x, y, z)\n",
    "ax.scatter(x1, y1, z1)\n",
    "ax.scatter(x2, y2, z2, alpha = 0.01, c ='b')\n",
    "\n",
    "ax.set_xlabel('X')\n",
    "ax.set_ylabel('Y')\n",
    "ax.set_zlabel('Z')\n",
    "ax.set_xlim(0, X)\n",
    "ax.set_ylim(0, Y)\n",
    "ax.set_zlim(0, Z)\n",
    "plt.show()"
   ]
  },
  {
   "cell_type": "markdown",
   "metadata": {},
   "source": [
    "Create gif Animation of data"
   ]
  },
  {
   "cell_type": "code",
   "execution_count": null,
   "metadata": {},
   "outputs": [],
   "source": [
    "min_u = None\n",
    "max_u = None\n",
    "\n",
    "eval_dir = '../../results/interpolation/plots'\n",
    "if not os.path.exists(eval_dir):\n",
    "    os.makedirs(eval_dir)\n",
    "\n",
    "def create_temporal_comparison_gif_single(idx, data, title):\n",
    "    N_frames = data.shape[0]\n",
    "    fig = plt.figure(frameon=False)\n",
    "    im1 = plt.imshow(data[0, idx, :, :],interpolation='none', vmin=min_u, vmax=max_u)\n",
    "    plt.title(title)\n",
    "    plt.axis('off')\n",
    "    plt.tight_layout()\n",
    "\n",
    "    #initialization function: plot the background of each frame\n",
    "    def init():\n",
    "        im1.set_data(np.random.random((5,5)))\n",
    "        return [im1]\n",
    "\n",
    "    # animation function.  This is called sequentially\n",
    "    def animate(i):\n",
    "        im1.set_array(data[i, idx, :, :])\n",
    "        return [im1]\n",
    "\n",
    "    anim = animation.FuncAnimation(fig,animate, init_func=init, frames = N_frames,interval = 100, ) # in ms)\n",
    "\n",
    "\n",
    "    anim.save(f'{eval_dir}/Animate_{title}_single.gif', fps=10)\n",
    "\n",
    "t, x, y, z = h5[f'{file_label[0]}_u'].shape\n",
    "create_temporal_comparison_gif_single(x//2, h5[f'{file_label[0]}_v'], file_label[0])"
   ]
  }
 ],
 "metadata": {
  "kernelspec": {
   "display_name": "SR4DFlow",
   "language": "python",
   "name": "python3"
  },
  "language_info": {
   "codemirror_mode": {
    "name": "ipython",
    "version": 3
   },
   "file_extension": ".py",
   "mimetype": "text/x-python",
   "name": "python",
   "nbconvert_exporter": "python",
   "pygments_lexer": "ipython3",
   "version": "3.8.18"
  }
 },
 "nbformat": 4,
 "nbformat_minor": 2
}
