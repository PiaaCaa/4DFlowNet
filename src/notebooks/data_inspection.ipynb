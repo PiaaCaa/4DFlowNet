{
 "cells": [
  {
   "cell_type": "markdown",
   "metadata": {},
   "source": [
    "## Quantitaive and qualitative data inspection"
   ]
  },
  {
   "cell_type": "code",
   "execution_count": null,
   "metadata": {},
   "outputs": [],
   "source": [
    "# libraries \n",
    "import numpy as np\n",
    "import time\n",
    "import h5py\n",
    "import ipywidgets as widgets\n",
    "from ipywidgets import HBox, VBox\n",
    "import matplotlib.pyplot as plt\n",
    "from mpl_toolkits.axes_grid1 import make_axes_locatable\n",
    "import matplotlib\n",
    "import matplotlib.animation as animation\n",
    "from IPython.display import display\n",
    "\n",
    "from utils.evaluate_utils import get_indices"
   ]
  },
  {
   "cell_type": "markdown",
   "metadata": {},
   "source": [
    "### Qualitative analysis"
   ]
  },
  {
   "cell_type": "code",
   "execution_count": null,
   "metadata": {},
   "outputs": [],
   "source": [
    "h5_files = ['../data/HR/HR_1.h5', '../data/HR/HR_2.h5', '../data/HR/HR_3.h5', '../data/HR/HR_4.h5', '../data/HR/HR_5.h5']\n",
    "file_label = ['HR_1', 'HR_2', 'HR_3', 'HR_4', 'HR_5']\n",
    "\n",
    "# columns to load from data\n",
    "colnames = ['u', 'v', 'w']\n",
    "\n",
    "\n",
    "# load data\n",
    "data = {}\n",
    "for h5_file, label in zip(h5_files, file_label):\n",
    "    with h5py.File(h5_file, 'r') as f:\n",
    "        for vel in colnames:\n",
    "            data[f'{label}_{vel}'] = np.array(f[vel]).squeeze()\n"
   ]
  },
  {
   "cell_type": "code",
   "execution_count": null,
   "metadata": {},
   "outputs": [],
   "source": [
    "#TODO: add vmin and vmax to the plot\n",
    "# make use to also choose the colname (data) such that magnitude and velocity can be plotted next to each other\n",
    "\n",
    "# show interactive plot\n",
    "\n",
    "T, X, Y, Z= data['HR_1_u'].shape\n",
    "\n",
    "\n",
    "@widgets.interact(frame=(0, T), x = (0, X-1), vel=colnames, axis=[0, 1, 2])\n",
    "def f(frame=5, x = 10, vel = \"u\", axis = 0):\n",
    "    plt.figure(figsize=(10,10))\n",
    "    N = len(h5_files)\n",
    "    idxs = get_indices(frame,axis, x)\n",
    "\n",
    "    for i, t_name in enumerate(file_label):\n",
    "\n",
    "        plt.subplot(1, N, i+1)\n",
    "        plt.imshow(data[t_name][vel][idxs])#,  vmin = min_v[vel[0]], vmax = max_v[vel[0]], cmap='viridis')\n",
    "        plt.title(t_name)\n",
    "        plt.axis('off')\n",
    "    "
   ]
  }
 ],
 "metadata": {
  "language_info": {
   "name": "python"
  }
 },
 "nbformat": 4,
 "nbformat_minor": 2
}
