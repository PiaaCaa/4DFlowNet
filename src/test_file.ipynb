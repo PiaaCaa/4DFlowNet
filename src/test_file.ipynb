{
 "cells": [
  {
   "cell_type": "code",
   "execution_count": 2,
   "metadata": {},
   "outputs": [],
   "source": [
    "import numpy as np\n",
    "import tensorflow as tf\n",
    "import time\n",
    "import h5py\n",
    "# from Network.PatchHandler3D import PatchHandler3D\n",
    "from Network.PatchHandler3D_temporal import PatchHandler4D\n",
    "from test_iterator import check_compatibility, load_indexes\n",
    "import ipywidgets as widgets\n",
    "from ipywidgets import HBox, VBox\n",
    "import matplotlib.pyplot as plt\n",
    "from IPython.display import display\n",
    "from utils.evaluate_utils import *\n",
    "from scipy.ndimage import binary_erosion\n",
    "from mpl_toolkits.axes_grid1 import make_axes_locatable\n",
    "plt.rcParams['figure.figsize'] = [10, 8]"
   ]
  },
  {
   "cell_type": "code",
   "execution_count": null,
   "metadata": {},
   "outputs": [],
   "source": [
    "# def signal_to_noise_ratio(input, axis = 0):\n",
    "#     m = input.mean(axis)\n",
    "#     sd = input.std(axis=axis, ddof=ddof)\n",
    "#     return np.where(sd == 0, 0, m/sd)"
   ]
  },
  {
   "cell_type": "code",
   "execution_count": 4,
   "metadata": {},
   "outputs": [
    {
     "ename": "KeyError",
     "evalue": "\"Unable to open object (object 'u' doesn't exist)\"",
     "output_type": "error",
     "traceback": [
      "\u001b[0;31m---------------------------------------------------------------------------\u001b[0m",
      "\u001b[0;31mKeyError\u001b[0m                                  Traceback (most recent call last)",
      "Cell \u001b[0;32mIn[4], line 17\u001b[0m\n\u001b[1;32m     15\u001b[0m \u001b[39mfor\u001b[39;00m vel \u001b[39min\u001b[39;00m vel_colnames:\n\u001b[1;32m     16\u001b[0m     data_1[vel] \u001b[39m=\u001b[39m np\u001b[39m.\u001b[39masarray(p1[vel])\n\u001b[0;32m---> 17\u001b[0m     data_2[vel] \u001b[39m=\u001b[39m np\u001b[39m.\u001b[39masarray(p2[vel])\n\u001b[1;32m     19\u001b[0m     data_1[\u001b[39mf\u001b[39m\u001b[39m'\u001b[39m\u001b[39m{\u001b[39;00mvel\u001b[39m}\u001b[39;00m\u001b[39m_fluid\u001b[39m\u001b[39m'\u001b[39m] \u001b[39m=\u001b[39m np\u001b[39m.\u001b[39mmultiply(data_1[vel], temporal_mask)\n\u001b[1;32m     20\u001b[0m     data_2[\u001b[39mf\u001b[39m\u001b[39m'\u001b[39m\u001b[39m{\u001b[39;00mvel\u001b[39m}\u001b[39;00m\u001b[39m_fluid\u001b[39m\u001b[39m'\u001b[39m]  \u001b[39m=\u001b[39m np\u001b[39m.\u001b[39mmultiply(data_2[vel] , temporal_mask)\n",
      "File \u001b[0;32mh5py/_objects.pyx:54\u001b[0m, in \u001b[0;36mh5py._objects.with_phil.wrapper\u001b[0;34m()\u001b[0m\n",
      "File \u001b[0;32mh5py/_objects.pyx:55\u001b[0m, in \u001b[0;36mh5py._objects.with_phil.wrapper\u001b[0;34m()\u001b[0m\n",
      "File \u001b[0;32m~/venv/lib/python3.8/site-packages/h5py/_hl/group.py:357\u001b[0m, in \u001b[0;36mGroup.__getitem__\u001b[0;34m(self, name)\u001b[0m\n\u001b[1;32m    355\u001b[0m         \u001b[39mraise\u001b[39;00m \u001b[39mValueError\u001b[39;00m(\u001b[39m\"\u001b[39m\u001b[39mInvalid HDF5 object reference\u001b[39m\u001b[39m\"\u001b[39m)\n\u001b[1;32m    356\u001b[0m \u001b[39melif\u001b[39;00m \u001b[39misinstance\u001b[39m(name, (\u001b[39mbytes\u001b[39m, \u001b[39mstr\u001b[39m)):\n\u001b[0;32m--> 357\u001b[0m     oid \u001b[39m=\u001b[39m h5o\u001b[39m.\u001b[39;49mopen(\u001b[39mself\u001b[39;49m\u001b[39m.\u001b[39;49mid, \u001b[39mself\u001b[39;49m\u001b[39m.\u001b[39;49m_e(name), lapl\u001b[39m=\u001b[39;49m\u001b[39mself\u001b[39;49m\u001b[39m.\u001b[39;49m_lapl)\n\u001b[1;32m    358\u001b[0m \u001b[39melse\u001b[39;00m:\n\u001b[1;32m    359\u001b[0m     \u001b[39mraise\u001b[39;00m \u001b[39mTypeError\u001b[39;00m(\u001b[39m\"\u001b[39m\u001b[39mAccessing a group is done with bytes or str, \u001b[39m\u001b[39m\"\u001b[39m\n\u001b[1;32m    360\u001b[0m                     \u001b[39m\"\u001b[39m\u001b[39mnot \u001b[39m\u001b[39m{}\u001b[39;00m\u001b[39m\"\u001b[39m\u001b[39m.\u001b[39mformat(\u001b[39mtype\u001b[39m(name)))\n",
      "File \u001b[0;32mh5py/_objects.pyx:54\u001b[0m, in \u001b[0;36mh5py._objects.with_phil.wrapper\u001b[0;34m()\u001b[0m\n",
      "File \u001b[0;32mh5py/_objects.pyx:55\u001b[0m, in \u001b[0;36mh5py._objects.with_phil.wrapper\u001b[0;34m()\u001b[0m\n",
      "File \u001b[0;32mh5py/h5o.pyx:190\u001b[0m, in \u001b[0;36mh5py.h5o.open\u001b[0;34m()\u001b[0m\n",
      "\u001b[0;31mKeyError\u001b[0m: \"Unable to open object (object 'u' doesn't exist)\""
     ]
    }
   ],
   "source": [
    "# show radial sampled data\n",
    "dynamical_mask = '../data/CARDIAC/M3_2mm_step2_static_dynamic.h5'\n",
    "noisy_downsampled = '../data/CARDIAC/M3_2mm_step2_static_dynamic_noise_upsampled.h5'\n",
    "data_1 = {}\n",
    "data_2 = {}\n",
    "vel_colnames = ['u', 'v','w']\n",
    "\n",
    "with h5py.File(dynamical_mask, mode = 'r' ) as p1:\n",
    "    with h5py.File(noisy_downsampled, mode = 'r' ) as p2:\n",
    "            mask =  np.asarray(p1['mask'])\n",
    "            temporal_mask = mask.copy()\n",
    "            data_1['mask'] = temporal_mask\n",
    "            data_2['mask'] = np.asarray(p2['mask']).squeeze()#create_temporal_mask(np.asarray(p2['mask']).squeeze(), p2['u'].shape[0])\n",
    "            # temporal_mask = create_temporal_mask(mask.squeeze(), p1['u'].shape[0])\n",
    "            for vel in vel_colnames:\n",
    "                data_1[vel] = np.asarray(p1[vel])\n",
    "                data_2[vel] = np.asarray(p2[vel])\n",
    "\n",
    "                data_1[f'{vel}_fluid'] = np.multiply(data_1[vel], temporal_mask)\n",
    "                data_2[f'{vel}_fluid']  = np.multiply(data_2[vel] , temporal_mask)\n",
    "\n",
    "           \n",
    "\n",
    "print(data_1['mask'].shape, data_2['mask'].shape)\n",
    "with h5py.File('../results/Temporal4DFlowNet_20230313-0951/Testset_result_model4_2mm_step2_0951_temporal.h5', mode = 'r' ) as test1:\n",
    "     print(test1['u_combined'].shape)"
   ]
  },
  {
   "cell_type": "code",
   "execution_count": 9,
   "metadata": {},
   "outputs": [],
   "source": [
    "# look at sinc interpolation\n",
    "upsampled_sinc ='../data/CARDIAC/M4_2mm_step2_static_dynamic_noise_sinc.h5'\n",
    "noisy_downsampled = '../data/CARDIAC/M4_2mm_step2_static_dynamic_noise.h5'\n",
    "data_1 = {}\n",
    "data_2 = {}\n",
    "vel_colnames = ['u', 'v','w']\n",
    "\n",
    "with h5py.File(noisy_downsampled, mode = 'r' ) as p1:\n",
    "    data_1['mask'] =  np.asarray(p1['mask'])\n",
    "    temporal_mask = np.asarray(data_1['mask']).squeeze().copy()\n",
    "    for vel in vel_colnames:\n",
    "        data_1[vel] = np.asarray(p1[vel])\n",
    "        data_1[f'{vel}_fluid'] = np.multiply(data_1[vel], temporal_mask)\n",
    "\n",
    "with h5py.File(upsampled_sinc, mode = 'r' ) as p2:\n",
    "    data_2['mask'] =  temporal_mask\n",
    "    for vel in vel_colnames:\n",
    "        data_2[vel] = np.asarray(p2[vel]).squeeze()\n",
    "\n"
   ]
  },
  {
   "cell_type": "code",
   "execution_count": 10,
   "metadata": {},
   "outputs": [
    {
     "name": "stdout",
     "output_type": "stream",
     "text": [
      "(50, 62, 58, 84)\n"
     ]
    }
   ],
   "source": [
    "print(temporal_mask.shape)\n",
    "min_v = {}\n",
    "max_v = {}\n",
    "for vel in vel_colnames:\n",
    "    min_v[vel] = np.quantile(data_1[vel][np.where(temporal_mask !=0)].flatten(), 0.01)\n",
    "    max_v[vel] = np.quantile(data_1[vel][np.where(temporal_mask !=0)].flatten(), 0.99)"
   ]
  },
  {
   "cell_type": "code",
   "execution_count": 12,
   "metadata": {},
   "outputs": [
    {
     "name": "stdout",
     "output_type": "stream",
     "text": [
      "<KeysViewHDF5 ['dx', 'mag_u', 'mag_v', 'mag_w', 'mask', 'u', 'u_max', 'v', 'v_max', 'w', 'w_max']>\n",
      "(30, 184, 204, 256)\n",
      "<HDF5 dataset \"v_max\": shape (30, 1), type \"<f4\">\n"
     ]
    }
   ],
   "source": [
    "# look at sinc interpolation\n",
    "in_vivo = '../data/PIA/BARCELONA/h5/sample_patient.h5'\n",
    "data_1 = {}\n",
    "vel_colnames = ['u', 'v','w']\n",
    "\n",
    "with h5py.File(in_vivo, mode = 'r' ) as p1:\n",
    "    print(p1.keys())\n",
    "    data_1['mask'] =  np.asarray(p1['mask']).squeeze()\n",
    "    print( data_1['mask'].shape)\n",
    "    for vel in vel_colnames:\n",
    "        data_1[vel] = np.asarray(p1[vel]).squeeze()\n",
    "        data_1[f'{vel}_fluid'] = np.multiply(data_1[vel], data_1['mask'])\n",
    "\n",
    "    print(p1['v_max'])\n",
    "\n"
   ]
  },
  {
   "cell_type": "code",
   "execution_count": 15,
   "metadata": {},
   "outputs": [
    {
     "data": {
      "application/vnd.jupyter.widget-view+json": {
       "model_id": "900fb5c389aa4e2597de788eecb696a1",
       "version_major": 2,
       "version_minor": 0
      },
      "text/plain": [
       "interactive(children=(IntSlider(value=5, description='frame', max=29), IntSlider(value=0, description='x', max…"
      ]
     },
     "metadata": {},
     "output_type": "display_data"
    }
   ],
   "source": [
    "\n",
    "@widgets.interact(frame=(0, data_1['u'].shape[0]-1), x = (0, data_1['u'].shape[1]-1))\n",
    "def f(frame=5, x = 0):\n",
    "    plt.subplot(1, 4, 1)\n",
    "    plt.imshow(data_1['u_fluid'][frame, x, :, :])\n",
    "    plt.title('u')\n",
    "    plt.axis('off')\n",
    "\n",
    "    plt.subplot(1, 4, 2)\n",
    "    plt.imshow(data_1['v_fluid'][frame, x, :, :])\n",
    "    plt.title('v')\n",
    "    plt.axis('off')\n",
    "\n",
    "    plt.subplot(1, 4, 3)\n",
    "    plt.imshow(data_1['w_fluid'][frame, x, :, :])\n",
    "    plt.title('w')\n",
    "    plt.axis('off')\n",
    "\n",
    "    plt.subplot(1, 4, 4)\n",
    "    plt.imshow(data_1['mask'][frame, x, :, :])\n",
    "    plt.title('mask')\n",
    "    plt.axis('off')\n",
    "    plt.show()"
   ]
  },
  {
   "cell_type": "code",
   "execution_count": null,
   "metadata": {},
   "outputs": [],
   "source": [
    "\n",
    "\n",
    "@widgets.interact(frame=(0, data_1['u'].shape[0]-1), x = (0, data_1['u'].shape[1]-1))\n",
    "def f(frame=5, x = 0):\n",
    "    plt.subplot(1, 2, 1)\n",
    "    plt.imshow(data_1['u'][frame, x, :, :], vmin=min_v['u'],  vmax = max_v['u'])\n",
    "    plt.title('Noisy')\n",
    "    plt.axis('off')\n",
    "\n",
    "    plt.subplot(1, 2, 2)\n",
    "    plt.imshow(data_2['u'][frame//2, x, :, :],vmin=min_v['u'], vmax = max_v['u'])\n",
    "    plt.title('Sinc upsampled')\n",
    "    plt.axis('off')\n",
    "    plt.show()"
   ]
  },
  {
   "cell_type": "code",
   "execution_count": null,
   "metadata": {},
   "outputs": [],
   "source": [
    "data_1['speed']   = np.sqrt(data_1[\"u\"]**2 + data_1[\"v\"]**2 + data_1[\"w\"]**2)\n",
    "data_2['speed']   = np.sqrt(data_2[\"u\"]**2 + data_2[\"v\"]**2 + data_2[\"w\"]**2)\n",
    "# print(np.min(data_1['speed'][40, 25, :,:]), np.max(data_1['speed'][40, 25, :,:]))\n",
    "slice_idx = np.index_exp[6,34, :, :]\n",
    "\n",
    "min_v = {}\n",
    "max_v = {}\n",
    "\n",
    "# min_v['speed'] = np.quantile(data_2['speed'][slice_idx].flatten(), 0.1)#np.min(data_2['speed'][slice_idx] )#\n",
    "max_v['speed'] = np.quantile(data_2['speed'][slice_idx].flatten(), 0.7)#np.max(data_2['speed'][slice_idx] )#\n",
    "\n",
    "im = data_2['speed'][slice_idx]\n",
    "\n",
    "plt.figure()\n",
    "ax = plt.gca()\n",
    "im1 = ax.imshow(im, vmin= 0, vmax=max_v['speed'])\n",
    "# plt.imshow(im, vmin= 0, vmax=max_v['speed'])\n",
    "plt.axis('off')\n",
    "divider = make_axes_locatable(ax)\n",
    "cax = divider.append_axes(\"right\", size=\"5%\", pad=0.05)\n",
    "   \n",
    "plt.colorbar(im1, cax=cax)\n",
    "# plt.colorbar()\n",
    "#plt.colorbar(im,fraction=0.046, pad=0.04) \n",
    "plt.savefig('../results/data/Model1_speed_viridis_LR.png',bbox_inches='tight')\n",
    "plt.show()"
   ]
  },
  {
   "cell_type": "code",
   "execution_count": null,
   "metadata": {},
   "outputs": [],
   "source": [
    "\n",
    "plt.imshow(data_1['speed'][slice_idx], vmin= 0, vmax=max_v['speed'])\n",
    "plt.axis('off')\n",
    "plt.colorbar()\n",
    "plt.savefig('../results/data/Model3_speed_viridis_LR.png',bbox_inches='tight')\n",
    "plt.show()"
   ]
  },
  {
   "cell_type": "code",
   "execution_count": null,
   "metadata": {},
   "outputs": [],
   "source": [
    "# print(\"Difference:\", np.linalg.norm(data_2['mask']- data_1['mask']))\n",
    "overlap_mask= np.zeros_like(data_1['u'])\n",
    "overlap_mask[np.where(data_1['u'] != 0)] = 1\n",
    "overlap_mask[np.where(data_1['v'] != 0)] = 1\n",
    "overlap_mask[np.where(data_1['w'] != 0)] = 1\n",
    "\n",
    "\n",
    "print(np.linalg.norm(overlap_mask - data_1['mask']))\n",
    "print(np.count_nonzero(data_2['mask']- data_1['mask']))\n",
    "print('Shape ', data_2['mask'].shape, 'total number of pixels: ', np.prod(data_2['mask'].shape), ' i.e.', np.prod(data_2['mask'].shape)/np.count_nonzero(data_2['mask']- data_1['mask']), ' %' )"
   ]
  },
  {
   "cell_type": "code",
   "execution_count": null,
   "metadata": {},
   "outputs": [],
   "source": [
    "temporal_mask = data_1['mask']\n",
    "def get_bounds(binary_mask):\n",
    "\n",
    "    core_mask = binary_erosion(binary_mask)\n",
    "    boundary_mask = mask - core_mask\n",
    "    # kernel_x = np.array([[-1,1]])\n",
    "    # kernel_y = kernel_x.transpose()\n",
    "\n",
    "    # boundary = np.abs(convolve2d(binary_mask, kernel_x, mode ='same')) + np.abs(convolve2d(binary_mask, kernel_y, mode = 'same' ))\n",
    "    # boundary[np.where(boundary !=0)] = 1\n",
    "    return boundary_mask, core_mask\n",
    "#get boundary points\n",
    "bounds, inner_mask = get_bounds(temporal_mask)# = #np.zeros_like(temporal_mask)\n",
    "# for t in range(temporal_mask.shape[0]):\n",
    "#     for i in range(temporal_mask.shape[0]):\n",
    "#         bounds[t, i, :, :] = get_bounds(temporal_mask[t, i, :, :])\n",
    "\n",
    "bounds_mask = bounds.copy()\n",
    "# inner_mask = np.asarray(temporal_mask, dtype= float) - np.asarray(bounds_mask, dtype = float)\n",
    "# inner_mask[np.where(inner_mask != 0 )] = 1\n",
    "print(np.unique(inner_mask, return_counts=True),np.unique(temporal_mask, return_counts=True),np.unique(bounds_mask, return_counts=True), bounds_mask.shape, temporal_mask.shape)\n",
    "print(np.count_nonzero(inner_mask))\n",
    "print(np.unravel_index(np.argmax(inner_mask), shape = inner_mask.shape))\n",
    "print(np.linalg.norm((inner_mask + bounds) - temporal_mask))\n",
    "@widgets.interact(frame=(0, data_1['u'].shape[0]-1), x = (0, data_1['u'].shape[1]-1))\n",
    "def f(frame=5, x = 0):\n",
    "    diff = temporal_mask - bounds\n",
    "    plt.subplot(1, 3, 1)\n",
    "    plt.imshow(data_1['mask'][frame, x, :, :] )#vmin=min_v, vmax= max_v)\n",
    "    plt.title('Dynamical Mask')\n",
    "    plt.axis('off')\n",
    "\n",
    "    plt.subplot(1, 3, 2)\n",
    "    plt.imshow(bounds[frame, x, :, :])#vmin=min_v, vmax= max_v)\n",
    "    plt.title('Boundary')\n",
    "    plt.axis('off')\n",
    "\n",
    "    plt.subplot(1, 3, 3)\n",
    "    plt.imshow(diff[frame, x, :, :])#vmin=min_v, vmax= max_v)\n",
    "    plt.title('inner mask')\n",
    "    plt.axis('off')\n",
    "    plt.show()"
   ]
  },
  {
   "cell_type": "code",
   "execution_count": 7,
   "metadata": {},
   "outputs": [
    {
     "ename": "IndexError",
     "evalue": "too many indices for array: array is 4-dimensional, but 5 were indexed",
     "output_type": "error",
     "traceback": [
      "\u001b[0;31m---------------------------------------------------------------------------\u001b[0m",
      "\u001b[0;31mIndexError\u001b[0m                                Traceback (most recent call last)",
      "Cell \u001b[0;32mIn[7], line 4\u001b[0m\n\u001b[1;32m      2\u001b[0m max_v \u001b[39m=\u001b[39m {}\n\u001b[1;32m      3\u001b[0m \u001b[39mfor\u001b[39;00m vel \u001b[39min\u001b[39;00m vel_colnames:\n\u001b[0;32m----> 4\u001b[0m     min_v[vel] \u001b[39m=\u001b[39m np\u001b[39m.\u001b[39mquantile(data_1[vel][np\u001b[39m.\u001b[39;49mwhere(temporal_mask \u001b[39m!=\u001b[39;49m\u001b[39m0\u001b[39;49m)]\u001b[39m.\u001b[39mflatten(), \u001b[39m0.01\u001b[39m)\n\u001b[1;32m      5\u001b[0m     max_v[vel] \u001b[39m=\u001b[39m np\u001b[39m.\u001b[39mquantile(data_1[vel][np\u001b[39m.\u001b[39mwhere(temporal_mask \u001b[39m!=\u001b[39m\u001b[39m0\u001b[39m)]\u001b[39m.\u001b[39mflatten(), \u001b[39m0.99\u001b[39m)\n\u001b[1;32m      6\u001b[0m \u001b[39m@widgets\u001b[39m\u001b[39m.\u001b[39minteract(frame\u001b[39m=\u001b[39m(\u001b[39m0\u001b[39m, data_1[\u001b[39m'\u001b[39m\u001b[39mu\u001b[39m\u001b[39m'\u001b[39m]\u001b[39m.\u001b[39mshape[\u001b[39m0\u001b[39m]\u001b[39m-\u001b[39m\u001b[39m1\u001b[39m), x \u001b[39m=\u001b[39m (\u001b[39m0\u001b[39m, data_1[\u001b[39m'\u001b[39m\u001b[39mu\u001b[39m\u001b[39m'\u001b[39m]\u001b[39m.\u001b[39mshape[\u001b[39m1\u001b[39m]\u001b[39m-\u001b[39m\u001b[39m1\u001b[39m))\n\u001b[1;32m      7\u001b[0m \u001b[39mdef\u001b[39;00m \u001b[39mf\u001b[39m(frame\u001b[39m=\u001b[39m\u001b[39m5\u001b[39m, x \u001b[39m=\u001b[39m \u001b[39m0\u001b[39m):\n",
      "\u001b[0;31mIndexError\u001b[0m: too many indices for array: array is 4-dimensional, but 5 were indexed"
     ]
    }
   ],
   "source": [
    "min_v = {}\n",
    "max_v = {}\n",
    "for vel in vel_colnames:\n",
    "    min_v[vel] = np.quantile(data_1[vel][np.where(temporal_mask !=0)].flatten(), 0.01)\n",
    "    max_v[vel] = np.quantile(data_1[vel][np.where(temporal_mask !=0)].flatten(), 0.99)\n",
    "@widgets.interact(frame=(0, data_1['u'].shape[0]-1), x = (0, data_1['u'].shape[1]-1))\n",
    "def f(frame=5, x = 0):\n",
    "    vel = 'u'\n",
    "    diff = data_1[vel] - data_2[f'{vel}_fluid']\n",
    "    \n",
    "    plt.subplot(1, 3, 1)\n",
    "    plt.imshow(data_1[vel][frame, x, :, :], vmin=min_v[vel], vmax= max_v[vel])\n",
    "    plt.title('HR')\n",
    "    plt.axis('off')\n",
    "\n",
    "    plt.subplot(1, 3, 2)\n",
    "    plt.imshow(data_2[f'{vel}_fluid'][frame, x, :, :], vmin=min_v[vel], vmax= max_v[vel])\n",
    "    plt.title('LR noisy mask region')\n",
    "    plt.axis('off')\n",
    "\n",
    "    plt.subplot(1, 3, 3)\n",
    "    plt.imshow(diff[frame, x, :, :])#vmin=min_v, vmax= max_v)\n",
    "    plt.title('Difference within mask')\n",
    "    plt.axis('off')\n",
    "    plt.show()"
   ]
  },
  {
   "cell_type": "code",
   "execution_count": null,
   "metadata": {},
   "outputs": [],
   "source": [
    "plt.subplot(1, 2, 1)\n",
    "plt.hist(p2[\"u\"][np.where(temporal_mask !=0)].flatten(), bins = 1000, color='red', label = 'not radial')   \n",
    "plt.hist(p1[\"u\"][np.where(temporal_mask !=0)].flatten(), bins = 1000, color='black', label = 'radial')  \n",
    "plt.xlim(np.quantile(p1[\"u\"][np.where(temporal_mask !=0)].flatten(), 0.01), np.quantile(p1[\"u\"][np.where(temporal_mask !=0)].flatten(), 0.99))\n",
    "plt.xlabel('value')\n",
    "plt.title(\"Distribution of velocity values in fluid region without outliers - radial\")\n",
    "plt.legend()\n",
    "\n",
    "plt.subplot(1, 2, 2)\n",
    "plt.hist(p2[\"u\"][np.where(temporal_mask !=0)].flatten() - p1[\"u\"][np.where(temporal_mask !=0)].flatten(), bins = 1000, color='blue', label = 'difference')  \n",
    "plt.xlim(np.quantile(p1[\"u\"][np.where(temporal_mask !=0)].flatten(), 0.01), np.quantile(p1[\"u\"][np.where(temporal_mask !=0)].flatten(), 0.99))\n",
    "plt.xlabel('value')\n",
    "plt.title(\"Difference\")\n",
    "plt.legend()"
   ]
  },
  {
   "cell_type": "code",
   "execution_count": null,
   "metadata": {},
   "outputs": [],
   "source": [
    "data_dir = '../data/CARDIAC'\n",
    "    \n",
    "# ---- Patch index files ----\n",
    "training_file = '{}/Temporal14MODEL12_2mm_step2.csv'.format(data_dir)\n",
    "\n",
    "# Hyperparameters optimisation variables\n",
    "epochs =  1\n",
    "batch_size =10\n",
    "\n",
    "patch_size = 14\n",
    "res_increase = 2\n",
    "\n",
    "\n",
    "# Load data file and indexes\n",
    "trainset = load_indexes(training_file)\n",
    "\n",
    "# ----------------- TensorFlow stuff -------------------\n",
    "# TRAIN dataset iterator\n",
    "z = PatchHandler4D(data_dir, patch_size, res_increase, batch_size)\n",
    "trainset = z.initialize_dataset(trainset, shuffle=False, n_parallel=2)\n",
    "\n",
    "for epoch in range(epochs):\n",
    "    print(f\"\\nEpoch {epoch+1}\")\n",
    "    start_time = time.time()\n",
    "    for i, data_pairs in enumerate(trainset):\n",
    "        start_loop = time.time()\n",
    "        \n",
    "        a = data_pairs\n",
    "        #check if datapairs align\n",
    "        lr_u, hr_u_mask, mask = check_compatibility(a)\n",
    "\n",
    "        message = f\"Iteration {i+1}   - batch {time.time()-start_loop:.4f} sec {time.time()-start_time:.1f} secs\"\n",
    "        print(f\"\\r{message}\", end='')\n",
    "        print(' ________________________')\n",
    "        #break\n",
    "        \n",
    "print(\"\\nDone\")#\n"
   ]
  },
  {
   "cell_type": "code",
   "execution_count": null,
   "metadata": {},
   "outputs": [],
   "source": [
    "#show_timeframes(gt,lr,  pred,mask, rel_error, dt,  timepoints, axis, idx, save_as = \"Frame_comparison.png\")\n",
    "# check interpolation result\n",
    "\n",
    "\n",
    "p1 = lr['u']\n",
    "p2 = interpolate_linear['u'] #temporal_linear_interpolation(lr[\"u\"],gt[\"u\"].shape)\n",
    "p3 = interpolate_linear['v']#temporal_cubic_interpolation(lr[\"u\"],gt[\"u\"].shape)\n",
    "p4 = p2.copy()\n",
    "#p3[::2, :, :, :] -= p1\n",
    "p4 -= p3\n",
    "print(\"shapes_\", p1.shape, p2.shape, p3.shape)\n",
    "\n",
    "# min_v = -1#np.min(hr_u_downsampled)\n",
    "# max_v = 1#np.max(hr_u_downsampled)\n",
    "# #p3[np.where(p3 !=0)] = 1\n",
    "\n",
    "\n",
    "@widgets.interact(frame=(0, p2.shape[0]-1), x = (0, p2.shape[1]-1))\n",
    "def f(frame=5, x = 0):\n",
    "    plt.subplot(1, 4, 1)\n",
    "    #plt.imshow(p1[frame//2, x, :, :])#, vmin=min_v, vmax= max_v)\n",
    "    if frame%2 == 0:\n",
    "        plt.imshow(p1[frame//2, x, :, :])#,  vmin = min_v[vel[0]], vmax = max_v[vel[0]], cmap='viridis')\n",
    "    else:\n",
    "        plt.imshow(np.zeros_like(p1[frame//2, x, :, :]))#, vmin = min_v[vel[0]], vmax = max_v[vel[0]], cmap='viridis')\n",
    "    plt.title(\"LR\")\n",
    "    plt.axis('off')\n",
    "\n",
    "    plt.subplot(1, 4, 2)\n",
    "    plt.imshow(p2[frame, x, :, :])#, vmin=min_v, vmax= max_v)\n",
    "    plt.title(\"Linear interpolation\")\n",
    "    plt.axis('off')\n",
    "\n",
    "    plt.subplot(1, 4, 3)\n",
    "    plt.imshow(p3[frame, x, :, :])#, vmin=min_v, vmax= max_v)\n",
    "    plt.title(\"Cubic interpolation\")\n",
    "    plt.axis('off')\n",
    "\n",
    "    plt.subplot(1, 4, 4)\n",
    "    plt.imshow(p4[frame, x, :, :])#, vmin=min_v, vmax= max_v, cmap='gray')\n",
    "    plt.title(\"Difference\")\n",
    "    plt.axis('off')\n",
    "    plt.tight_layout()\n",
    "    plt.show()\n",
    "\n"
   ]
  },
  {
   "cell_type": "code",
   "execution_count": null,
   "metadata": {},
   "outputs": [],
   "source": [
    "p1 = mask\n",
    "p2 = hr_u_mask\n",
    "p3 = mask-hr_u_mask\n",
    "print(\"shapes_\", p1.shape, p2.shape, p3.shape)\n",
    "\n",
    "min_v = -1#np.min(hr_u_downsampled)\n",
    "max_v = 1#np.max(hr_u_downsampled)\n",
    "#p3[np.where(p3 !=0)] = 1\n",
    "overlap_masks = np.count_nonzero(p3)\n",
    "print(\"Check compatibility of masks! Nonzero difference:\", overlap_masks, '/', np.prod(list(hr_u_mask.shape)), 'i.e. ', 100*overlap_masks/np.prod(np.array(hr_u_mask.shape)) ,\"%\") \n",
    "\n",
    "\n",
    "@widgets.interact(frame=(0, p1.shape[0]-1), x = (0, p1.shape[1]-1))\n",
    "def f(frame=5, x = 0):\n",
    "    plt.subplot(1, 3, 1)\n",
    "    plt.imshow(p1[frame, x, :, :], vmin=min_v, vmax= max_v)\n",
    "    plt.title('Gt mask')\n",
    "    plt.axis('off')\n",
    "\n",
    "    plt.subplot(1, 3, 2)\n",
    "    plt.imshow(p2[frame, x, :, :], vmin=min_v, vmax= max_v)\n",
    "    plt.title(\"Non zero values for hr data\")\n",
    "    plt.axis('off')\n",
    "\n",
    "    plt.subplot(1, 3, 3)\n",
    "    plt.imshow(p3[frame, x, :, :], vmin=min_v, vmax= max_v, cmap='gray')\n",
    "    plt.title(\"Difference\")\n",
    "    plt.axis('off')\n",
    "    plt.tight_layout()\n",
    "    plt.show()"
   ]
  }
 ],
 "metadata": {
  "kernelspec": {
   "display_name": "venv",
   "language": "python",
   "name": "python3"
  },
  "language_info": {
   "codemirror_mode": {
    "name": "ipython",
    "version": 3
   },
   "file_extension": ".py",
   "mimetype": "text/x-python",
   "name": "python",
   "nbconvert_exporter": "python",
   "pygments_lexer": "ipython3",
   "version": "3.8.10"
  },
  "orig_nbformat": 4,
  "vscode": {
   "interpreter": {
    "hash": "585aea28fa87079cc8bffb5238657fadf631df6c8c1a15c467e95f4da754a260"
   }
  }
 },
 "nbformat": 4,
 "nbformat_minor": 2
}
