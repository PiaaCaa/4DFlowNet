{
 "cells": [
  {
   "cell_type": "code",
   "execution_count": 1,
   "metadata": {},
   "outputs": [],
   "source": [
    "import numpy as np\n",
    "import tensorflow as tf\n",
    "import time\n",
    "import h5py\n",
    "# from Network.PatchHandler3D import PatchHandler3D\n",
    "from Network.PatchHandler3D_temporal import PatchHandler4D\n",
    "from test_iterator import check_compatibility, load_indexes\n",
    "import ipywidgets as widgets\n",
    "from ipywidgets import HBox, VBox\n",
    "import matplotlib.pyplot as plt\n",
    "from IPython.display import display\n",
    "from utils.evaluate_utils import *\n",
    "plt.rcParams['figure.figsize'] = [10, 8]"
   ]
  },
  {
   "cell_type": "code",
   "execution_count": 2,
   "metadata": {},
   "outputs": [
    {
     "name": "stderr",
     "output_type": "stream",
     "text": [
      "2023-02-15 10:10:59.520115: I tensorflow/stream_executor/cuda/cuda_gpu_executor.cc:975] successful NUMA node read from SysFS had negative value (-1), but there must be at least one NUMA node, so returning NUMA node zero\n",
      "2023-02-15 10:10:59.520457: I tensorflow/stream_executor/cuda/cuda_gpu_executor.cc:975] successful NUMA node read from SysFS had negative value (-1), but there must be at least one NUMA node, so returning NUMA node zero\n",
      "2023-02-15 10:10:59.548629: I tensorflow/stream_executor/cuda/cuda_gpu_executor.cc:975] successful NUMA node read from SysFS had negative value (-1), but there must be at least one NUMA node, so returning NUMA node zero\n",
      "2023-02-15 10:10:59.549002: I tensorflow/stream_executor/cuda/cuda_gpu_executor.cc:975] successful NUMA node read from SysFS had negative value (-1), but there must be at least one NUMA node, so returning NUMA node zero\n",
      "2023-02-15 10:10:59.549292: I tensorflow/stream_executor/cuda/cuda_gpu_executor.cc:975] successful NUMA node read from SysFS had negative value (-1), but there must be at least one NUMA node, so returning NUMA node zero\n",
      "2023-02-15 10:10:59.549576: I tensorflow/stream_executor/cuda/cuda_gpu_executor.cc:975] successful NUMA node read from SysFS had negative value (-1), but there must be at least one NUMA node, so returning NUMA node zero\n",
      "2023-02-15 10:10:59.550571: I tensorflow/core/platform/cpu_feature_guard.cc:193] This TensorFlow binary is optimized with oneAPI Deep Neural Network Library (oneDNN) to use the following CPU instructions in performance-critical operations:  AVX2 FMA\n",
      "To enable them in other operations, rebuild TensorFlow with the appropriate compiler flags.\n",
      "2023-02-15 10:10:59.748131: I tensorflow/stream_executor/cuda/cuda_gpu_executor.cc:975] successful NUMA node read from SysFS had negative value (-1), but there must be at least one NUMA node, so returning NUMA node zero\n",
      "2023-02-15 10:10:59.748420: I tensorflow/stream_executor/cuda/cuda_gpu_executor.cc:975] successful NUMA node read from SysFS had negative value (-1), but there must be at least one NUMA node, so returning NUMA node zero\n",
      "2023-02-15 10:10:59.748684: I tensorflow/stream_executor/cuda/cuda_gpu_executor.cc:975] successful NUMA node read from SysFS had negative value (-1), but there must be at least one NUMA node, so returning NUMA node zero\n",
      "2023-02-15 10:10:59.748937: I tensorflow/stream_executor/cuda/cuda_gpu_executor.cc:975] successful NUMA node read from SysFS had negative value (-1), but there must be at least one NUMA node, so returning NUMA node zero\n",
      "2023-02-15 10:10:59.749181: I tensorflow/stream_executor/cuda/cuda_gpu_executor.cc:975] successful NUMA node read from SysFS had negative value (-1), but there must be at least one NUMA node, so returning NUMA node zero\n",
      "2023-02-15 10:10:59.749425: I tensorflow/stream_executor/cuda/cuda_gpu_executor.cc:975] successful NUMA node read from SysFS had negative value (-1), but there must be at least one NUMA node, so returning NUMA node zero\n",
      "2023-02-15 10:11:00.273815: I tensorflow/stream_executor/cuda/cuda_gpu_executor.cc:975] successful NUMA node read from SysFS had negative value (-1), but there must be at least one NUMA node, so returning NUMA node zero\n",
      "2023-02-15 10:11:00.274128: I tensorflow/stream_executor/cuda/cuda_gpu_executor.cc:975] successful NUMA node read from SysFS had negative value (-1), but there must be at least one NUMA node, so returning NUMA node zero\n",
      "2023-02-15 10:11:00.274383: I tensorflow/stream_executor/cuda/cuda_gpu_executor.cc:975] successful NUMA node read from SysFS had negative value (-1), but there must be at least one NUMA node, so returning NUMA node zero\n",
      "2023-02-15 10:11:00.274637: I tensorflow/stream_executor/cuda/cuda_gpu_executor.cc:975] successful NUMA node read from SysFS had negative value (-1), but there must be at least one NUMA node, so returning NUMA node zero\n",
      "2023-02-15 10:11:00.274885: I tensorflow/stream_executor/cuda/cuda_gpu_executor.cc:975] successful NUMA node read from SysFS had negative value (-1), but there must be at least one NUMA node, so returning NUMA node zero\n",
      "2023-02-15 10:11:00.275138: I tensorflow/core/common_runtime/gpu/gpu_device.cc:1532] Created device /job:localhost/replica:0/task:0/device:GPU:0 with 22762 MB memory:  -> device: 0, name: NVIDIA TITAN RTX, pci bus id: 0000:01:00.0, compute capability: 7.5\n",
      "2023-02-15 10:11:00.275456: I tensorflow/stream_executor/cuda/cuda_gpu_executor.cc:975] successful NUMA node read from SysFS had negative value (-1), but there must be at least one NUMA node, so returning NUMA node zero\n",
      "2023-02-15 10:11:00.275688: I tensorflow/core/common_runtime/gpu/gpu_device.cc:1532] Created device /job:localhost/replica:0/task:0/device:GPU:1 with 22838 MB memory:  -> device: 1, name: NVIDIA TITAN RTX, pci bus id: 0000:21:00.0, compute capability: 7.5\n"
     ]
    },
    {
     "name": "stdout",
     "output_type": "stream",
     "text": [
      "Total dataset: 1029 shuffle False\n",
      "\n",
      "Epoch 1\n",
      "Check compatibility of masks! Nonzero difference: 3509 / 10000 i.e.  35.09 %\n",
      "Iteration 1   - batch 0.0025 sec 0.2 secs ________________________\n",
      "\n",
      "Epoch 2\n",
      "Check compatibility of masks! Nonzero difference: 3509 / 10000 i.e.  35.09 %\n",
      "Iteration 1   - batch 0.0020 sec 0.1 secs ________________________\n",
      "\n",
      "Epoch 3\n",
      "Check compatibility of masks! Nonzero difference: 3509 / 10000 i.e.  35.09 %\n",
      "Iteration 1   - batch 0.0020 sec 0.2 secs ________________________\n",
      "\n",
      "Epoch 4\n",
      "Check compatibility of masks! Nonzero difference: 3509 / 10000 i.e.  35.09 %\n",
      "Iteration 1   - batch 0.0029 sec 0.2 secs ________________________\n",
      "\n",
      "Epoch 5\n",
      "Check compatibility of masks! Nonzero difference: 3509 / 10000 i.e.  35.09 %\n",
      "Iteration 1   - batch 0.0023 sec 0.2 secs ________________________\n",
      "\n",
      "Epoch 6\n",
      "Check compatibility of masks! Nonzero difference: 3509 / 10000 i.e.  35.09 %\n",
      "Iteration 1   - batch 0.0023 sec 0.2 secs ________________________\n",
      "\n",
      "Epoch 7\n",
      "Check compatibility of masks! Nonzero difference: 3509 / 10000 i.e.  35.09 %\n",
      "Iteration 1   - batch 0.0035 sec 0.2 secs ________________________\n",
      "\n",
      "Epoch 8\n",
      "Check compatibility of masks! Nonzero difference: 3509 / 10000 i.e.  35.09 %\n",
      "Iteration 1   - batch 0.0033 sec 0.2 secs ________________________\n",
      "\n",
      "Epoch 9\n",
      "Check compatibility of masks! Nonzero difference: 3509 / 10000 i.e.  35.09 %\n",
      "Iteration 1   - batch 0.0032 sec 0.2 secs ________________________\n",
      "\n",
      "Epoch 10\n",
      "Check compatibility of masks! Nonzero difference: 3509 / 10000 i.e.  35.09 %\n",
      "Iteration 1   - batch 0.0021 sec 0.2 secs ________________________\n",
      "\n",
      "Done\n"
     ]
    }
   ],
   "source": [
    "data_dir = '../data/CARDIAC'\n",
    "    \n",
    "# ---- Patch index files ----\n",
    "training_file = '{}/Temporal10MODEL12_2_temporal.csv'.format(data_dir)\n",
    "\n",
    "# Hyperparameters optimisation variables\n",
    "epochs =  10\n",
    "batch_size =10\n",
    "\n",
    "patch_size = 10\n",
    "res_increase = 2\n",
    "\n",
    "\n",
    "# Load data file and indexes\n",
    "trainset = load_indexes(training_file)\n",
    "\n",
    "# ----------------- TensorFlow stuff -------------------\n",
    "# TRAIN dataset iterator\n",
    "z = PatchHandler4D(data_dir, patch_size, res_increase, batch_size)\n",
    "trainset = z.initialize_dataset(trainset, shuffle=False, n_parallel=2)\n",
    "\n",
    "for epoch in range(epochs):\n",
    "    print(f\"\\nEpoch {epoch+1}\")\n",
    "    start_time = time.time()\n",
    "    for i, data_pairs in enumerate(trainset):\n",
    "        start_loop = time.time()\n",
    "        \n",
    "        a = data_pairs\n",
    "        #check if datapairs align\n",
    "        lr_u, hr_u_mask, mask = check_compatibility(a)\n",
    "\n",
    "        message = f\"Iteration {i+1}   - batch {time.time()-start_loop:.4f} sec {time.time()-start_time:.1f} secs\"\n",
    "        print(f\"\\r{message}\", end='')\n",
    "        print(' ________________________')\n",
    "        break\n",
    "        \n",
    "print(\"\\nDone\")#\n"
   ]
  },
  {
   "cell_type": "code",
   "execution_count": 9,
   "metadata": {},
   "outputs": [
    {
     "name": "stdout",
     "output_type": "stream",
     "text": [
      "shapes_ (10, 10, 10, 10) (10, 10, 10, 10) (10, 10, 10, 10)\n",
      "Check compatibility of masks! Nonzero difference: 3509 / 10000 i.e.  35.09 %\n"
     ]
    },
    {
     "data": {
      "application/vnd.jupyter.widget-view+json": {
       "model_id": "6e44ec0a788347eeaa980bfec5307b6a",
       "version_major": 2,
       "version_minor": 0
      },
      "text/plain": [
       "interactive(children=(IntSlider(value=5, description='frame', max=9), IntSlider(value=0, description='x', max=…"
      ]
     },
     "metadata": {},
     "output_type": "display_data"
    }
   ],
   "source": [
    "p1 = mask\n",
    "p2 = hr_u_mask\n",
    "p3 = mask-hr_u_mask\n",
    "print(\"shapes_\", p1.shape, p2.shape, p3.shape)\n",
    "\n",
    "min_v = -1#np.min(hr_u_downsampled)\n",
    "max_v = 1#np.max(hr_u_downsampled)\n",
    "#p3[np.where(p3 !=0)] = 1\n",
    "overlap_masks = np.count_nonzero(p3)\n",
    "print(\"Check compatibility of masks! Nonzero difference:\", overlap_masks, '/', np.prod(list(hr_u_mask.shape)), 'i.e. ', 100*overlap_masks/np.prod(np.array(hr_u_mask.shape)) ,\"%\") \n",
    "\n",
    "\n",
    "@widgets.interact(frame=(0, p1.shape[0]-1), x = (0, p1.shape[1]-1))\n",
    "def f(frame=5, x = 0):\n",
    "    plt.subplot(1, 3, 1)\n",
    "    plt.imshow(p1[frame, x, :, :], vmin=min_v, vmax= max_v)\n",
    "    plt.axis('off')\n",
    "\n",
    "    plt.subplot(1, 3, 2)\n",
    "    plt.imshow(p2[frame, x, :, :], vmin=min_v, vmax= max_v)\n",
    "    #plt.title(\"Non zero values for lr data\")\n",
    "    plt.axis('off')\n",
    "\n",
    "    plt.subplot(1, 3, 3)\n",
    "    plt.imshow(p3[frame, x, :, :], vmin=min_v, vmax= max_v, cmap='gray')\n",
    "    plt.title(\"Difference\")\n",
    "    plt.axis('off')\n",
    "    plt.tight_layout()\n",
    "    plt.show()"
   ]
  }
 ],
 "metadata": {
  "kernelspec": {
   "display_name": "venv",
   "language": "python",
   "name": "python3"
  },
  "language_info": {
   "codemirror_mode": {
    "name": "ipython",
    "version": 3
   },
   "file_extension": ".py",
   "mimetype": "text/x-python",
   "name": "python",
   "nbconvert_exporter": "python",
   "pygments_lexer": "ipython3",
   "version": "3.8.10"
  },
  "orig_nbformat": 4,
  "vscode": {
   "interpreter": {
    "hash": "cbb6c8ef89847118f138acdd1516e45869dd4699fb1b5b489ad76536cf09330f"
   }
  }
 },
 "nbformat": 4,
 "nbformat_minor": 2
}
