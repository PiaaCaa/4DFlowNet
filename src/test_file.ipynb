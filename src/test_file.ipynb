{
 "cells": [
  {
   "cell_type": "code",
   "execution_count": 1,
   "metadata": {},
   "outputs": [],
   "source": [
    "import numpy as np\n",
    "import tensorflow as tf\n",
    "import time\n",
    "import h5py\n",
    "# from Network.PatchHandler3D import PatchHandler3D\n",
    "from Network.PatchHandler3D_temporal import PatchHandler4D\n",
    "from test_iterator import check_compatibility, load_indexes\n",
    "import ipywidgets as widgets\n",
    "from ipywidgets import HBox, VBox\n",
    "import matplotlib.pyplot as plt\n",
    "from IPython.display import display\n",
    "from utils.evaluate_utils import *\n",
    "from scipy.ndimage import binary_erosion\n",
    "from mpl_toolkits.axes_grid1 import make_axes_locatable\n",
    "plt.rcParams['figure.figsize'] = [10, 8]"
   ]
  },
  {
   "cell_type": "code",
   "execution_count": null,
   "metadata": {},
   "outputs": [],
   "source": [
    "# def signal_to_noise_ratio(input, axis = 0):\n",
    "#     m = input.mean(axis)\n",
    "#     sd = input.std(axis=axis, ddof=ddof)\n",
    "#     return np.where(sd == 0, 0, m/sd)"
   ]
  },
  {
   "cell_type": "code",
   "execution_count": null,
   "metadata": {},
   "outputs": [],
   "source": [
    "# show radial sampled data\n",
    "dynamical_mask = '../data/CARDIAC/M3_2mm_step2_static_dynamic.h5'\n",
    "noisy_downsampled = '../data/CARDIAC/M3_2mm_step2_static_dynamic_noise_upsampled.h5'\n",
    "data_1 = {}\n",
    "data_2 = {}\n",
    "vel_colnames = ['u', 'v','w']\n",
    "\n",
    "with h5py.File(dynamical_mask, mode = 'r' ) as p1:\n",
    "    with h5py.File(noisy_downsampled, mode = 'r' ) as p2:\n",
    "            mask =  np.asarray(p1['mask'])\n",
    "            temporal_mask = mask.copy()\n",
    "            data_1['mask'] = temporal_mask\n",
    "            data_2['mask'] = np.asarray(p2['mask']).squeeze()#create_temporal_mask(np.asarray(p2['mask']).squeeze(), p2['u'].shape[0])\n",
    "            # temporal_mask = create_temporal_mask(mask.squeeze(), p1['u'].shape[0])\n",
    "            for vel in vel_colnames:\n",
    "                data_1[vel] = np.asarray(p1[vel])\n",
    "                data_2[vel] = np.asarray(p2[vel])\n",
    "\n",
    "                data_1[f'{vel}_fluid'] = np.multiply(data_1[vel], temporal_mask)\n",
    "                data_2[f'{vel}_fluid']  = np.multiply(data_2[vel] , temporal_mask)\n",
    "\n",
    "           \n",
    "\n",
    "print(data_1['mask'].shape, data_2['mask'].shape)\n",
    "with h5py.File('../results/Temporal4DFlowNet_20230313-0951/Testset_result_model4_2mm_step2_0951_temporal.h5', mode = 'r' ) as test1:\n",
    "     print(test1['u_combined'].shape)"
   ]
  },
  {
   "cell_type": "code",
   "execution_count": 2,
   "metadata": {},
   "outputs": [],
   "source": [
    "# look at sinc interpolation\n",
    "upsampled_sinc ='../data/CARDIAC/M4_2mm_step2_static_dynamic_noise_sinc.h5'\n",
    "noisy_downsampled = '../data/CARDIAC/M4_2mm_step2_static_dynamic_noise.h5'\n",
    "data_1 = {}\n",
    "data_2 = {}\n",
    "vel_colnames = ['u', 'v','w']\n",
    "\n",
    "with h5py.File(noisy_downsampled, mode = 'r' ) as p1:\n",
    "    data_1['mask'] =  np.asarray(p1['mask'])\n",
    "    temporal_mask = np.asarray(data_1['mask']).squeeze().copy()\n",
    "    for vel in vel_colnames:\n",
    "        data_1[vel] = np.asarray(p1[vel])\n",
    "        data_1[f'{vel}_fluid'] = np.multiply(data_1[vel], temporal_mask)\n",
    "\n",
    "with h5py.File(upsampled_sinc, mode = 'r' ) as p2:\n",
    "    data_2['mask'] =  temporal_mask\n",
    "    for vel in vel_colnames:\n",
    "        data_2[vel] = np.asarray(p2[vel]).squeeze()\n",
    "\n"
   ]
  },
  {
   "cell_type": "code",
   "execution_count": null,
   "metadata": {},
   "outputs": [],
   "source": [
    "print(temporal_mask.shape)\n",
    "min_v = {}\n",
    "max_v = {}\n",
    "for vel in vel_colnames:\n",
    "    min_v[vel] = np.quantile(data_1[vel][np.where(temporal_mask !=0)].flatten(), 0.01)\n",
    "    max_v[vel] = np.quantile(data_1[vel][np.where(temporal_mask !=0)].flatten(), 0.99)"
   ]
  },
  {
   "attachments": {},
   "cell_type": "markdown",
   "metadata": {},
   "source": [
    "### In vivo data visualization"
   ]
  },
  {
   "cell_type": "code",
   "execution_count": 116,
   "metadata": {},
   "outputs": [
    {
     "name": "stdout",
     "output_type": "stream",
     "text": [
      "<KeysViewHDF5 ['dx', 'mag_u', 'mag_v', 'mag_w', 'mask', 'u', 'u_max', 'v', 'v_max', 'w', 'w_max']>\n",
      "(30, 184, 204, 256)\n"
     ]
    }
   ],
   "source": [
    "# look at in vivo data\n",
    "in_vivo = '../data/PIA/BARCELONA/h5/sample_patient.h5'\n",
    "in_vivo_upsampled = '../results/in_vivo/BARCELONA/20230405-1417_temporal.h5'\n",
    "# in_vivo = '../data/PIA/THORAX/P01/h5/P01.h5'\n",
    "# in_vivo_upsampled = '../results/in_vivo/THORAX/P01_masktest_20230405-1417_temporal.h5'\n",
    "data_1 = {}\n",
    "data_predicted = {}\n",
    "vel_colnames = ['u', 'v','w']\n",
    "mag_colnames = ['mag_u', 'mag_v', 'mag_w']\n",
    "venc_colnames = [  'u_max', 'v_max', 'w_max']\n",
    "vencs = {}\n",
    "\n",
    "#load in-vivo data\n",
    "with h5py.File(in_vivo, mode = 'r' ) as p1:\n",
    "    data_1['mask'] =  np.asarray(p1['mask']).squeeze()\n",
    "    print(p1.keys())\n",
    "    for vel, venc in zip(vel_colnames, venc_colnames):\n",
    "        vencs[venc] = np.asarray(p1[venc])\n",
    "        data_1[vel] = np.asarray(p1[vel], dtype = float).squeeze()/np.max(p1[venc]) #TODO change this\n",
    "        data_1[f'{vel}_fluid'] = np.multiply(data_1[vel], data_1['mask'])\n",
    "    for mag in mag_colnames:\n",
    "         data_1[mag] =  np.asarray(p1[mag]).squeeze()\n",
    "\n",
    "#load prediction\n",
    "with h5py.File(in_vivo_upsampled, mode = 'r' ) as h_pred:\n",
    "    for vel, venc in zip(vel_colnames, venc_colnames):\n",
    "        data_predicted[vel] = np.asarray(h_pred[f'{vel}_combined']) /np.max(vencs[venc]) \n",
    "        # add information considering only the fluid regions  \n",
    "        data_predicted[f'{vel}_fluid'] =np.multiply(data_predicted[vel], data_1['mask'])\n",
    "\n",
    "print(data_predicted['u'].shape)"
   ]
  },
  {
   "cell_type": "code",
   "execution_count": 117,
   "metadata": {},
   "outputs": [],
   "source": [
    "def temporal_linear_interpolation_np_test(lr, hr_shape):\n",
    "    T, x, y, z = hr_shape\n",
    "    interpolate = np.zeros((hr_shape))\n",
    "    interpolate[::2, :, :, :] = lr\n",
    "    for t in range(0, T-2, 2):\n",
    "        interpolate[1+t, :, :, :] = (interpolate[t, :, :, :] + interpolate[1+t+1, :, :, :]) /2\n",
    "\n",
    "    return interpolate"
   ]
  },
  {
   "cell_type": "code",
   "execution_count": 118,
   "metadata": {},
   "outputs": [],
   "source": [
    "#find lower and higher values to display velocity fields\n",
    "min_v = {}\n",
    "max_v = {}\n",
    "for vel in vel_colnames:\n",
    "    min_v[vel] = np.quantile(data_1[vel][np.where(data_1['mask'] !=0)].flatten(), 0.01)\n",
    "    max_v[vel] = np.quantile(data_1[vel][np.where(data_1['mask'] !=0)].flatten(), 0.99)\n",
    "\n",
    "# interpolate data (take every second slice and interpolate them)\n",
    "interpolate_linear = {}\n",
    "interpolate_cubic = {}\n",
    "for vel in vel_colnames:\n",
    "    interpolate_linear[vel] = temporal_linear_interpolation_np_test(data_1[vel][::2], data_1[vel].shape)\n",
    "    interpolate_linear[f'{vel}_fluid'] = np.multiply(interpolate_linear[vel], data_1['mask'])\n",
    "\n",
    "    # interpolate_cubic[vel] = temporal_cubic_interpolation(data_1[vel][::2], data_1[vel].shape)\n",
    "    # interpolate_cubic[f'{vel}_fluid'] = np.multiply(interpolate_cubic[vel], data_1['mask'])\n",
    "\n",
    "error_pointwise, error_absolut = calculate_pointwise_error(data_predicted[\"u\"], data_predicted[\"v\"], data_predicted[\"w\"], data_1[\"u\"], data_1[\"v\"] , data_1[\"w\"], data_1[\"mask\"])\n",
    "\n",
    "# visualize given data\n",
    "magn = np.sqrt(data_1['mag_u']**2 + data_1['mag_v']**2 + data_1['mag_w']**2)"
   ]
  },
  {
   "cell_type": "code",
   "execution_count": null,
   "metadata": {},
   "outputs": [
    {
     "name": "stdout",
     "output_type": "stream",
     "text": [
      "dict_keys(['mask', 'u', 'u_fluid', 'v', 'v_fluid', 'w', 'w_fluid', 'mag_u', 'mag_v', 'mag_w'])\n"
     ]
    },
    {
     "data": {
      "application/vnd.jupyter.widget-view+json": {
       "model_id": "21ccdc13973544f0a1093a5388a6f3a2",
       "version_major": 2,
       "version_minor": 0
      },
      "text/plain": [
       "interactive(children=(IntSlider(value=5, description='frame', max=24), IntSlider(value=0, description='x', max…"
      ]
     },
     "metadata": {},
     "output_type": "display_data"
    }
   ],
   "source": [
    "\n",
    "print(data_1.keys())\n",
    "@widgets.interact(frame=(0, data_1['u'].shape[0]-1), x = (0, data_1['u'].shape[1]-1))\n",
    "def f(frame=5, x = 0):\n",
    "    plt.subplot(1, 3, 1)\n",
    "    plt.imshow(data_1['u'][frame, x, :, :], vmin=min_v['u'],  vmax = max_v['u'])\n",
    "    plt.title('Data, u')\n",
    "    plt.axis('off')\n",
    "\n",
    "    plt.subplot(1, 3, 2)\n",
    "    plt.imshow(magn[frame, x, :, :], cmap ='Greys')#,vmin=min_v['u'], vmax = max_v['u'])\n",
    "    plt.title('magnitude')\n",
    "    plt.axis('off')\n",
    "\n",
    "    plt.subplot(1, 3, 3)\n",
    "    plt.imshow(data_1['mask'][frame, x, :, :], cmap ='Greys')#,vmin=min_v['u'], vmax = max_v['u'])\n",
    "    plt.title('mask')\n",
    "    plt.axis('off')\n",
    "    plt.show()"
   ]
  },
  {
   "attachments": {},
   "cell_type": "markdown",
   "metadata": {},
   "source": [
    "#### Show comparison of prediction and original data"
   ]
  },
  {
   "cell_type": "code",
   "execution_count": null,
   "metadata": {},
   "outputs": [
    {
     "data": {
      "application/vnd.jupyter.widget-view+json": {
       "model_id": "270362628f82471aa5eaab26fc1b46ab",
       "version_major": 2,
       "version_minor": 0
      },
      "text/plain": [
       "interactive(children=(IntSlider(value=5, description='frame', max=24), IntSlider(value=0, description='x', max…"
      ]
     },
     "metadata": {},
     "output_type": "display_data"
    }
   ],
   "source": [
    "\n",
    "@widgets.interact(frame=(0, data_1['u'].shape[0]-1), x = (0, data_1['u'].shape[1]-1))\n",
    "def f(frame=5, x = 0):\n",
    "    idx_slice = np.index_exp[frame, x, :, :]\n",
    "    plt.subplot(3, 4, 1)\n",
    "    plt.imshow(data_predicted['u'][idx_slice], vmin = min_v['u'], vmax = max_v['u'])\n",
    "    plt.title('u predicted')\n",
    "    plt.axis('off')\n",
    "\n",
    "    plt.subplot(3, 4, 2)\n",
    "    plt.imshow(data_predicted['v'][idx_slice], vmin = min_v['v'], vmax = max_v['v'])\n",
    "    plt.title('v predicted')\n",
    "    plt.axis('off')\n",
    "\n",
    "    plt.subplot(3, 4, 3)\n",
    "    plt.imshow(data_predicted['w'][idx_slice], vmin = min_v['w'], vmax = max_v['w'])\n",
    "    plt.title('w predicted')\n",
    "    plt.axis('off')\n",
    "\n",
    "    plt.subplot(3, 4, 4)\n",
    "    plt.imshow(data_1['mask'][idx_slice], cmap ='Greys')\n",
    "    plt.title('mask')\n",
    "    plt.axis('off')\n",
    "\n",
    "    plt.subplot(3, 4, 5)\n",
    "    plt.imshow(data_1['u'][idx_slice], vmin = min_v['u'], vmax = max_v['u'])\n",
    "    # plt.imshow(data_1['u_fluid'][idx_slice], vmin = min_v['u'], vmax = max_v['u'])\n",
    "    plt.title('u')\n",
    "    plt.axis('off')\n",
    "\n",
    "    plt.subplot(3, 4, 6)\n",
    "    plt.imshow(data_1['v'][idx_slice], vmin = min_v['v'], vmax = max_v['v'])\n",
    "    # plt.imshow(data_1['v_fluid'][idx_slice], vmin = min_v['v'], vmax = max_v['v'])\n",
    "    plt.title('v')\n",
    "    plt.axis('off')\n",
    "\n",
    "    plt.subplot(3, 4, 7)\n",
    "    plt.imshow(data_1['w'][idx_slice], vmin = min_v['w'], vmax = max_v['w'])\n",
    "    # plt.imshow(data_1['w_fluid'][idx_slice], vmin = min_v['w'], vmax = max_v['w'])\n",
    "    plt.title('w')\n",
    "    plt.axis('off')\n",
    "\n",
    "    plt.subplot(3, 4, 8)\n",
    "    plt.imshow(magn[idx_slice], cmap ='Greys')\n",
    "    plt.title('magnitude')\n",
    "    plt.axis('off')\n",
    "\n",
    "    plt.subplot(3, 4, 9)\n",
    "    plt.imshow(np.abs(data_1['u_fluid'][idx_slice]- data_predicted['u_fluid'][idx_slice]), vmin = min_v['u'], vmax = max_v['u'], cmap = 'coolwarm')\n",
    "    plt.title('abs diff u, fluid region')\n",
    "    plt.axis('off')\n",
    "\n",
    "    plt.subplot(3, 4, 10)\n",
    "    plt.imshow(np.abs(data_1['v_fluid'][idx_slice] - data_predicted['v_fluid'][idx_slice]), vmin = min_v['v'], vmax = max_v['v'], cmap = 'coolwarm')\n",
    "    plt.title('abs diff v, fluid region')\n",
    "    plt.axis('off')\n",
    "\n",
    "    plt.subplot(3, 4, 11)\n",
    "    plt.imshow(np.abs(data_1['w_fluid'][idx_slice] -data_predicted['w_fluid'][idx_slice]), vmin = min_v['w'], vmax = max_v['w'], cmap = 'coolwarm')\n",
    "    plt.title('abs diff w, fluid region')\n",
    "    plt.axis('off')\n",
    "\n",
    "    plt.subplot(3, 4, 12)\n",
    "    plt.imshow(error_pointwise[idx_slice], cmap = 'coolwarm')\n",
    "    plt.title('relative error')\n",
    "    plt.axis('off')\n",
    "\n",
    "\n",
    "    plt.tight_layout()\n",
    "\n",
    "\n",
    "    plt.show()"
   ]
  },
  {
   "attachments": {},
   "cell_type": "markdown",
   "metadata": {},
   "source": [
    "#### Show relative error of prediction"
   ]
  },
  {
   "cell_type": "code",
   "execution_count": 100,
   "metadata": {},
   "outputs": [
    {
     "name": "stdout",
     "output_type": "stream",
     "text": [
      "max/min before tanh 170.8812497495527 0.0\n",
      "max/min after tanh 1.0 0.0\n",
      "max/min before tanh 264.7010552423145 0.0\n",
      "max/min after tanh 1.0 0.0\n"
     ]
    },
    {
     "data": {
      "image/png": "[encoded data removed]",
      "text/plain": [
       "<Figure size 1000x800 with 2 Axes>"
      ]
     },
     "metadata": {},
     "output_type": "display_data"
    }
   ],
   "source": [
    "#calculate relative error\n",
    "rel_error = calculate_relative_error_normalized(data_predicted[\"u\"], data_predicted[\"v\"], data_predicted[\"w\"], data_1[\"u\"], data_1[\"v\"] , data_1[\"w\"], data_1[\"mask\"])\n",
    "rel_error_lin_interpolation =   calculate_relative_error_normalized(interpolate_linear[\"u\"], interpolate_linear[\"v\"], interpolate_linear[\"w\"], data_1[\"u\"], data_1[\"v\"] , data_1[\"w\"], data_1[\"mask\"])\n",
    "\n",
    "\n",
    "data_1['mean_speed'] = calculate_mean_speed(data_1[\"u_fluid\"], data_1[\"v_fluid\"] , data_1[\"w_fluid\"], data_1[\"mask\"])\n",
    "data_predicted['mean_speed'] = calculate_mean_speed(data_predicted[\"u_fluid\"], data_predicted[\"v_fluid\"] , data_predicted[\"w_fluid\"], data_1[\"mask\"])\n",
    "interpolate_linear['mean_speed'] = calculate_mean_speed(interpolate_linear[\"u_fluid\"], interpolate_linear[\"v_fluid\"] ,interpolate_linear[\"w_fluid\"], data_1[\"mask\"])\n",
    "\n",
    "plt.subplot(2, 1, 1)\n",
    "frames = len(rel_error)\n",
    "plt.title(\"Relative error\")\n",
    "plt.plot(rel_error, label = 'Thorax Set')\n",
    "plt.plot(rel_error_lin_interpolation[:-1], label = 'linear interpolation',color = 'yellowgreen')\n",
    "# plt.plot(rel_error_cubic_interpolation, label = 'cubic interpolation', color = 'forestgreen')\n",
    "plt.plot(50*np.ones(len(rel_error)), 'k:')\n",
    "plt.xlabel(\"Frame\")\n",
    "plt.ylabel(\"Relative error (%)\")\n",
    "plt.ylim((0, 100))\n",
    "plt.legend()\n",
    "\n",
    "plt.subplot(2, 1, 2)\n",
    "plt.title('Mean speed')\n",
    "plt.plot(calculate_mean_speed(data_predicted[\"u_fluid\"], data_predicted[\"v_fluid\"], data_predicted[\"w_fluid\"],data_1[\"mask\"]), label = 'predicted', color= 'steelblue')\n",
    "plt.plot(calculate_mean_speed(data_1[\"u_fluid\"], data_1[\"v_fluid\"], data_1[\"w_fluid\"],data_1[\"mask\"]),'--', label = 'data', color= 'black')\n",
    "plt.legend()\n",
    "plt.tight_layout()\n",
    "plt.show()"
   ]
  },
  {
   "attachments": {},
   "cell_type": "markdown",
   "metadata": {},
   "source": [
    "## others"
   ]
  },
  {
   "cell_type": "code",
   "execution_count": null,
   "metadata": {},
   "outputs": [],
   "source": [
    "\n",
    "\n",
    "@widgets.interact(frame=(0, data_1['u'].shape[0]-1), x = (0, data_1['u'].shape[1]-1))\n",
    "def f(frame=5, x = 0):\n",
    "    plt.subplot(1, 2, 1)\n",
    "    plt.imshow(data_1['u'][frame, x, :, :], vmin=min_v['u'],  vmax = max_v['u'])\n",
    "    plt.title('Noisy')\n",
    "    plt.axis('off')\n",
    "\n",
    "    plt.subplot(1, 2, 2)\n",
    "    plt.imshow(data_2['u'][frame//2, x, :, :],vmin=min_v['u'], vmax = max_v['u'])\n",
    "    plt.title('Sinc upsampled')\n",
    "    plt.axis('off')\n",
    "    plt.show()"
   ]
  },
  {
   "cell_type": "code",
   "execution_count": null,
   "metadata": {},
   "outputs": [],
   "source": [
    "data_1['speed']   = np.sqrt(data_1[\"u\"]**2 + data_1[\"v\"]**2 + data_1[\"w\"]**2)\n",
    "data_2['speed']   = np.sqrt(data_2[\"u\"]**2 + data_2[\"v\"]**2 + data_2[\"w\"]**2)\n",
    "# print(np.min(data_1['speed'][40, 25, :,:]), np.max(data_1['speed'][40, 25, :,:]))\n",
    "slice_idx = np.index_exp[6,34, :, :]\n",
    "\n",
    "min_v = {}\n",
    "max_v = {}\n",
    "\n",
    "# min_v['speed'] = np.quantile(data_2['speed'][slice_idx].flatten(), 0.1)#np.min(data_2['speed'][slice_idx] )#\n",
    "max_v['speed'] = np.quantile(data_2['speed'][slice_idx].flatten(), 0.7)#np.max(data_2['speed'][slice_idx] )#\n",
    "\n",
    "im = data_2['speed'][slice_idx]\n",
    "\n",
    "plt.figure()\n",
    "ax = plt.gca()\n",
    "im1 = ax.imshow(im, vmin= 0, vmax=max_v['speed'])\n",
    "# plt.imshow(im, vmin= 0, vmax=max_v['speed'])\n",
    "plt.axis('off')\n",
    "divider = make_axes_locatable(ax)\n",
    "cax = divider.append_axes(\"right\", size=\"5%\", pad=0.05)\n",
    "   \n",
    "plt.colorbar(im1, cax=cax)\n",
    "# plt.colorbar()\n",
    "#plt.colorbar(im,fraction=0.046, pad=0.04) \n",
    "plt.savefig('../results/data/Model1_speed_viridis_LR.png',bbox_inches='tight')\n",
    "plt.show()"
   ]
  },
  {
   "cell_type": "code",
   "execution_count": null,
   "metadata": {},
   "outputs": [],
   "source": [
    "\n",
    "plt.imshow(data_1['speed'][slice_idx], vmin= 0, vmax=max_v['speed'])\n",
    "plt.axis('off')\n",
    "plt.colorbar()\n",
    "plt.savefig('../results/data/Model3_speed_viridis_LR.png',bbox_inches='tight')\n",
    "plt.show()"
   ]
  },
  {
   "cell_type": "code",
   "execution_count": null,
   "metadata": {},
   "outputs": [],
   "source": [
    "# print(\"Difference:\", np.linalg.norm(data_2['mask']- data_1['mask']))\n",
    "overlap_mask= np.zeros_like(data_1['u'])\n",
    "overlap_mask[np.where(data_1['u'] != 0)] = 1\n",
    "overlap_mask[np.where(data_1['v'] != 0)] = 1\n",
    "overlap_mask[np.where(data_1['w'] != 0)] = 1\n",
    "\n",
    "\n",
    "print(np.linalg.norm(overlap_mask - data_1['mask']))\n",
    "print(np.count_nonzero(data_2['mask']- data_1['mask']))\n",
    "print('Shape ', data_2['mask'].shape, 'total number of pixels: ', np.prod(data_2['mask'].shape), ' i.e.', np.prod(data_2['mask'].shape)/np.count_nonzero(data_2['mask']- data_1['mask']), ' %' )"
   ]
  },
  {
   "cell_type": "code",
   "execution_count": null,
   "metadata": {},
   "outputs": [],
   "source": [
    "temporal_mask = data_1['mask']\n",
    "def get_bounds(binary_mask):\n",
    "\n",
    "    core_mask = binary_erosion(binary_mask)\n",
    "    boundary_mask = mask - core_mask\n",
    "    # kernel_x = np.array([[-1,1]])\n",
    "    # kernel_y = kernel_x.transpose()\n",
    "\n",
    "    # boundary = np.abs(convolve2d(binary_mask, kernel_x, mode ='same')) + np.abs(convolve2d(binary_mask, kernel_y, mode = 'same' ))\n",
    "    # boundary[np.where(boundary !=0)] = 1\n",
    "    return boundary_mask, core_mask\n",
    "#get boundary points\n",
    "bounds, inner_mask = get_bounds(temporal_mask)# = #np.zeros_like(temporal_mask)\n",
    "# for t in range(temporal_mask.shape[0]):\n",
    "#     for i in range(temporal_mask.shape[0]):\n",
    "#         bounds[t, i, :, :] = get_bounds(temporal_mask[t, i, :, :])\n",
    "\n",
    "bounds_mask = bounds.copy()\n",
    "# inner_mask = np.asarray(temporal_mask, dtype= float) - np.asarray(bounds_mask, dtype = float)\n",
    "# inner_mask[np.where(inner_mask != 0 )] = 1\n",
    "print(np.unique(inner_mask, return_counts=True),np.unique(temporal_mask, return_counts=True),np.unique(bounds_mask, return_counts=True), bounds_mask.shape, temporal_mask.shape)\n",
    "print(np.count_nonzero(inner_mask))\n",
    "print(np.unravel_index(np.argmax(inner_mask), shape = inner_mask.shape))\n",
    "print(np.linalg.norm((inner_mask + bounds) - temporal_mask))\n",
    "@widgets.interact(frame=(0, data_1['u'].shape[0]-1), x = (0, data_1['u'].shape[1]-1))\n",
    "def f(frame=5, x = 0):\n",
    "    diff = temporal_mask - bounds\n",
    "    plt.subplot(1, 3, 1)\n",
    "    plt.imshow(data_1['mask'][frame, x, :, :] )#vmin=min_v, vmax= max_v)\n",
    "    plt.title('Dynamical Mask')\n",
    "    plt.axis('off')\n",
    "\n",
    "    plt.subplot(1, 3, 2)\n",
    "    plt.imshow(bounds[frame, x, :, :])#vmin=min_v, vmax= max_v)\n",
    "    plt.title('Boundary')\n",
    "    plt.axis('off')\n",
    "\n",
    "    plt.subplot(1, 3, 3)\n",
    "    plt.imshow(diff[frame, x, :, :])#vmin=min_v, vmax= max_v)\n",
    "    plt.title('inner mask')\n",
    "    plt.axis('off')\n",
    "    plt.show()"
   ]
  },
  {
   "cell_type": "code",
   "execution_count": null,
   "metadata": {},
   "outputs": [],
   "source": [
    "min_v = {}\n",
    "max_v = {}\n",
    "for vel in vel_colnames:\n",
    "    min_v[vel] = np.quantile(data_1[vel][np.where(temporal_mask !=0)].flatten(), 0.01)\n",
    "    max_v[vel] = np.quantile(data_1[vel][np.where(temporal_mask !=0)].flatten(), 0.99)\n",
    "@widgets.interact(frame=(0, data_1['u'].shape[0]-1), x = (0, data_1['u'].shape[1]-1))\n",
    "def f(frame=5, x = 0):\n",
    "    vel = 'u'\n",
    "    diff = data_1[vel] - data_2[f'{vel}_fluid']\n",
    "    \n",
    "    plt.subplot(1, 3, 1)\n",
    "    plt.imshow(data_1[vel][frame, x, :, :], vmin=min_v[vel], vmax= max_v[vel])\n",
    "    plt.title('HR')\n",
    "    plt.axis('off')\n",
    "\n",
    "    plt.subplot(1, 3, 2)\n",
    "    plt.imshow(data_2[f'{vel}_fluid'][frame, x, :, :], vmin=min_v[vel], vmax= max_v[vel])\n",
    "    plt.title('LR noisy mask region')\n",
    "    plt.axis('off')\n",
    "\n",
    "    plt.subplot(1, 3, 3)\n",
    "    plt.imshow(diff[frame, x, :, :])#vmin=min_v, vmax= max_v)\n",
    "    plt.title('Difference within mask')\n",
    "    plt.axis('off')\n",
    "    plt.show()"
   ]
  },
  {
   "cell_type": "code",
   "execution_count": null,
   "metadata": {},
   "outputs": [],
   "source": [
    "plt.subplot(1, 2, 1)\n",
    "plt.hist(p2[\"u\"][np.where(temporal_mask !=0)].flatten(), bins = 1000, color='red', label = 'not radial')   \n",
    "plt.hist(p1[\"u\"][np.where(temporal_mask !=0)].flatten(), bins = 1000, color='black', label = 'radial')  \n",
    "plt.xlim(np.quantile(p1[\"u\"][np.where(temporal_mask !=0)].flatten(), 0.01), np.quantile(p1[\"u\"][np.where(temporal_mask !=0)].flatten(), 0.99))\n",
    "plt.xlabel('value')\n",
    "plt.title(\"Distribution of velocity values in fluid region without outliers - radial\")\n",
    "plt.legend()\n",
    "\n",
    "plt.subplot(1, 2, 2)\n",
    "plt.hist(p2[\"u\"][np.where(temporal_mask !=0)].flatten() - p1[\"u\"][np.where(temporal_mask !=0)].flatten(), bins = 1000, color='blue', label = 'difference')  \n",
    "plt.xlim(np.quantile(p1[\"u\"][np.where(temporal_mask !=0)].flatten(), 0.01), np.quantile(p1[\"u\"][np.where(temporal_mask !=0)].flatten(), 0.99))\n",
    "plt.xlabel('value')\n",
    "plt.title(\"Difference\")\n",
    "plt.legend()"
   ]
  },
  {
   "cell_type": "code",
   "execution_count": null,
   "metadata": {},
   "outputs": [],
   "source": [
    "data_dir = '../data/CARDIAC'\n",
    "    \n",
    "# ---- Patch index files ----\n",
    "training_file = '{}/Temporal14MODEL12_2mm_step2.csv'.format(data_dir)\n",
    "\n",
    "# Hyperparameters optimisation variables\n",
    "epochs =  1\n",
    "batch_size =10\n",
    "\n",
    "patch_size = 14\n",
    "res_increase = 2\n",
    "\n",
    "\n",
    "# Load data file and indexes\n",
    "trainset = load_indexes(training_file)\n",
    "\n",
    "# ----------------- TensorFlow stuff -------------------\n",
    "# TRAIN dataset iterator\n",
    "z = PatchHandler4D(data_dir, patch_size, res_increase, batch_size)\n",
    "trainset = z.initialize_dataset(trainset, shuffle=False, n_parallel=2)\n",
    "\n",
    "for epoch in range(epochs):\n",
    "    print(f\"\\nEpoch {epoch+1}\")\n",
    "    start_time = time.time()\n",
    "    for i, data_pairs in enumerate(trainset):\n",
    "        start_loop = time.time()\n",
    "        \n",
    "        a = data_pairs\n",
    "        #check if datapairs align\n",
    "        lr_u, hr_u_mask, mask = check_compatibility(a)\n",
    "\n",
    "        message = f\"Iteration {i+1}   - batch {time.time()-start_loop:.4f} sec {time.time()-start_time:.1f} secs\"\n",
    "        print(f\"\\r{message}\", end='')\n",
    "        print(' ________________________')\n",
    "        #break\n",
    "        \n",
    "print(\"\\nDone\")#\n"
   ]
  },
  {
   "cell_type": "code",
   "execution_count": null,
   "metadata": {},
   "outputs": [],
   "source": [
    "#show_timeframes(gt,lr,  pred,mask, rel_error, dt,  timepoints, axis, idx, save_as = \"Frame_comparison.png\")\n",
    "# check interpolation result\n",
    "\n",
    "\n",
    "p1 = data_1['u_fluid']#lr['u']\n",
    "p2 = interpolate_linear['u_fluid'] #temporal_linear_interpolation(lr[\"u\"],gt[\"u\"].shape)\n",
    "p3 = interpolate_linear['v']#temporal_cubic_interpolation(lr[\"u\"],gt[\"u\"].shape)\n",
    "p4 = p2.copy()\n",
    "#p3[::2, :, :, :] -= p1\n",
    "p4 -= p1\n",
    "print(\"shapes_\", p1.shape, p2.shape, p3.shape)\n",
    "\n",
    "# min_v = -1#np.min(hr_u_downsampled)\n",
    "# max_v = 1#np.max(hr_u_downsampled)\n",
    "# #p3[np.where(p3 !=0)] = 1\n",
    "\n",
    "\n",
    "@widgets.interact(frame=(0, p2.shape[0]-1), x = (0, p2.shape[1]-1))\n",
    "def f(frame=5, x = 0):\n",
    "    plt.subplot(1, 3, 1)\n",
    "    #plt.imshow(p1[frame//2, x, :, :])#, vmin=min_v, vmax= max_v)\n",
    "    # if frame%2 == 0:\n",
    "    #     plt.imshow(p1[frame//2, x, :, :])#,  vmin = min_v[vel[0]], vmax = max_v[vel[0]], cmap='viridis')\n",
    "    # else:\n",
    "    #     plt.imshow(np.zeros_like(p1[frame//2, x, :, :]))#, vmin = min_v[vel[0]], vmax = max_v[vel[0]], cmap='viridis')\n",
    "    plt.imshow(p1[frame, x, :, :])\n",
    "    plt.title(\"data\")\n",
    "    plt.axis('off')\n",
    "\n",
    "    plt.subplot(1, 3, 2)\n",
    "    plt.imshow(p2[frame, x, :, :])#, vmin=min_v, vmax= max_v)\n",
    "    plt.title(\"Linear interpolation\")\n",
    "    plt.axis('off')\n",
    "\n",
    "    # plt.subplot(1, 4, 3)\n",
    "    # plt.imshow(p3[frame, x, :, :])#, vmin=min_v, vmax= max_v)\n",
    "    # plt.title(\"Cubic interpolation\")\n",
    "    # plt.axis('off')\n",
    "\n",
    "    plt.subplot(1, 3, 3)\n",
    "    plt.imshow(p4[frame, x, :, :])#, vmin=min_v, vmax= max_v, cmap='gray')\n",
    "    plt.title(\"Difference\")\n",
    "    plt.axis('off')\n",
    "    plt.tight_layout()\n",
    "    plt.show()\n",
    "\n"
   ]
  },
  {
   "cell_type": "code",
   "execution_count": null,
   "metadata": {},
   "outputs": [],
   "source": [
    "p1 = mask\n",
    "p2 = hr_u_mask\n",
    "p3 = mask-hr_u_mask\n",
    "print(\"shapes_\", p1.shape, p2.shape, p3.shape)\n",
    "\n",
    "min_v = -1#np.min(hr_u_downsampled)\n",
    "max_v = 1#np.max(hr_u_downsampled)\n",
    "#p3[np.where(p3 !=0)] = 1\n",
    "overlap_masks = np.count_nonzero(p3)\n",
    "print(\"Check compatibility of masks! Nonzero difference:\", overlap_masks, '/', np.prod(list(hr_u_mask.shape)), 'i.e. ', 100*overlap_masks/np.prod(np.array(hr_u_mask.shape)) ,\"%\") \n",
    "\n",
    "\n",
    "@widgets.interact(frame=(0, p1.shape[0]-1), x = (0, p1.shape[1]-1))\n",
    "def f(frame=5, x = 0):\n",
    "    plt.subplot(1, 3, 1)\n",
    "    plt.imshow(p1[frame, x, :, :], vmin=min_v, vmax= max_v)\n",
    "    plt.title('Gt mask')\n",
    "    plt.axis('off')\n",
    "\n",
    "    plt.subplot(1, 3, 2)\n",
    "    plt.imshow(p2[frame, x, :, :], vmin=min_v, vmax= max_v)\n",
    "    plt.title(\"Non zero values for hr data\")\n",
    "    plt.axis('off')\n",
    "\n",
    "    plt.subplot(1, 3, 3)\n",
    "    plt.imshow(p3[frame, x, :, :], vmin=min_v, vmax= max_v, cmap='gray')\n",
    "    plt.title(\"Difference\")\n",
    "    plt.axis('off')\n",
    "    plt.tight_layout()\n",
    "    plt.show()"
   ]
  }
 ],
 "metadata": {
  "kernelspec": {
   "display_name": "venv",
   "language": "python",
   "name": "python3"
  },
  "language_info": {
   "codemirror_mode": {
    "name": "ipython",
    "version": 3
   },
   "file_extension": ".py",
   "mimetype": "text/x-python",
   "name": "python",
   "nbconvert_exporter": "python",
   "pygments_lexer": "ipython3",
   "version": "3.8.10"
  },
  "orig_nbformat": 4,
  "vscode": {
   "interpreter": {
    "hash": "585aea28fa87079cc8bffb5238657fadf631df6c8c1a15c467e95f4da754a260"
   }
  }
 },
 "nbformat": 4,
 "nbformat_minor": 2
}
